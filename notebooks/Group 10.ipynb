{
 "cells": [
  {
   "cell_type": "code",
   "execution_count": 1,
   "metadata": {
    "collapsed": true
   },
   "outputs": [],
   "source": [
    "%matplotlib inline\n",
    "import matplotlib.pyplot as plt\n",
    "\n",
    "import pandas as pd\n",
    "import sqlite3\n",
    "import astroquery\n",
    "from astropy import units as u\n",
    "from astropy import coordinates as coords\n",
    "from astroquery.simbad import Simbad"
   ]
  },
  {
   "cell_type": "code",
   "execution_count": 2,
   "metadata": {
    "collapsed": true
   },
   "outputs": [],
   "source": [
    "conn = sqlite3.connect(\"/Users/semyeong/data/cms.db\")"
   ]
  },
  {
   "cell_type": "code",
   "execution_count": 3,
   "metadata": {
    "collapsed": true
   },
   "outputs": [],
   "source": [
    "query = \"\"\"\n",
    "select *\n",
    "from star\n",
    "left join tgas\n",
    "  on star.tgas_row = tgas.[index]\n",
    "where star.group_id == 10\"\"\"\n",
    "df = pd.read_sql(query, conn)"
   ]
  },
  {
   "cell_type": "code",
   "execution_count": 4,
   "metadata": {
    "collapsed": false
   },
   "outputs": [
    {
     "name": "stdout",
     "output_type": "stream",
     "text": [
      "29\n"
     ]
    }
   ],
   "source": [
    "print(len(df))"
   ]
  },
  {
   "cell_type": "code",
   "execution_count": 5,
   "metadata": {
    "collapsed": false
   },
   "outputs": [
    {
     "data": {
      "text/html": [
       "<div>\n",
       "<table border=\"1\" class=\"dataframe\">\n",
       "  <thead>\n",
       "    <tr style=\"text-align: right;\">\n",
       "      <th></th>\n",
       "      <th>index</th>\n",
       "      <th>tgas_row</th>\n",
       "      <th>row_id</th>\n",
       "      <th>tgas_source_id</th>\n",
       "      <th>tgas_ra</th>\n",
       "      <th>tgas_dec</th>\n",
       "      <th>tgas_parallax</th>\n",
       "      <th>tgas_distance</th>\n",
       "      <th>tgas_gmag</th>\n",
       "      <th>tmass_jmag</th>\n",
       "      <th>...</th>\n",
       "      <th>group_id</th>\n",
       "      <th>group_size</th>\n",
       "      <th>index</th>\n",
       "      <th>ra</th>\n",
       "      <th>dec</th>\n",
       "      <th>parallax</th>\n",
       "      <th>pmra</th>\n",
       "      <th>pmdec</th>\n",
       "      <th>hip</th>\n",
       "      <th>tycho2_id</th>\n",
       "    </tr>\n",
       "  </thead>\n",
       "  <tbody>\n",
       "    <tr>\n",
       "      <th>0</th>\n",
       "      <td>931</td>\n",
       "      <td>366159</td>\n",
       "      <td>931</td>\n",
       "      <td>1577006815932416128</td>\n",
       "      <td>195.819469</td>\n",
       "      <td>57.315207</td>\n",
       "      <td>10.245887</td>\n",
       "      <td>97.854279</td>\n",
       "      <td>8.939998</td>\n",
       "      <td>8.033</td>\n",
       "      <td>...</td>\n",
       "      <td>10</td>\n",
       "      <td>29</td>\n",
       "      <td>366159</td>\n",
       "      <td>195.819469</td>\n",
       "      <td>57.315207</td>\n",
       "      <td>10.245887</td>\n",
       "      <td>-17.102634</td>\n",
       "      <td>-8.196426</td>\n",
       "      <td>63702.0</td>\n",
       "      <td></td>\n",
       "    </tr>\n",
       "    <tr>\n",
       "      <th>1</th>\n",
       "      <td>1687</td>\n",
       "      <td>371817</td>\n",
       "      <td>1687</td>\n",
       "      <td>1611685687553578752</td>\n",
       "      <td>214.072565</td>\n",
       "      <td>58.389402</td>\n",
       "      <td>9.340722</td>\n",
       "      <td>107.483816</td>\n",
       "      <td>8.402097</td>\n",
       "      <td>7.698</td>\n",
       "      <td>...</td>\n",
       "      <td>10</td>\n",
       "      <td>29</td>\n",
       "      <td>371817</td>\n",
       "      <td>214.072565</td>\n",
       "      <td>58.389402</td>\n",
       "      <td>9.340722</td>\n",
       "      <td>-16.254402</td>\n",
       "      <td>-2.902562</td>\n",
       "      <td>69721.0</td>\n",
       "      <td></td>\n",
       "    </tr>\n",
       "    <tr>\n",
       "      <th>2</th>\n",
       "      <td>1888</td>\n",
       "      <td>363433</td>\n",
       "      <td>1888</td>\n",
       "      <td>1559292481018181632</td>\n",
       "      <td>205.978118</td>\n",
       "      <td>52.064391</td>\n",
       "      <td>10.737181</td>\n",
       "      <td>93.477575</td>\n",
       "      <td>6.050999</td>\n",
       "      <td>5.953</td>\n",
       "      <td>...</td>\n",
       "      <td>10</td>\n",
       "      <td>29</td>\n",
       "      <td>363433</td>\n",
       "      <td>205.978118</td>\n",
       "      <td>52.064391</td>\n",
       "      <td>10.737181</td>\n",
       "      <td>-18.270104</td>\n",
       "      <td>-5.604706</td>\n",
       "      <td>67005.0</td>\n",
       "      <td></td>\n",
       "    </tr>\n",
       "    <tr>\n",
       "      <th>3</th>\n",
       "      <td>2089</td>\n",
       "      <td>363738</td>\n",
       "      <td>2089</td>\n",
       "      <td>1561366778423093248</td>\n",
       "      <td>207.114201</td>\n",
       "      <td>54.042699</td>\n",
       "      <td>10.709244</td>\n",
       "      <td>93.590625</td>\n",
       "      <td>10.724721</td>\n",
       "      <td>9.433</td>\n",
       "      <td>...</td>\n",
       "      <td>10</td>\n",
       "      <td>29</td>\n",
       "      <td>363738</td>\n",
       "      <td>207.114201</td>\n",
       "      <td>54.042699</td>\n",
       "      <td>10.709244</td>\n",
       "      <td>-18.287732</td>\n",
       "      <td>-3.933854</td>\n",
       "      <td>NaN</td>\n",
       "      <td>3851-600-1</td>\n",
       "    </tr>\n",
       "    <tr>\n",
       "      <th>4</th>\n",
       "      <td>2096</td>\n",
       "      <td>363746</td>\n",
       "      <td>2096</td>\n",
       "      <td>1561439689788561664</td>\n",
       "      <td>206.648437</td>\n",
       "      <td>54.432659</td>\n",
       "      <td>10.333316</td>\n",
       "      <td>97.710103</td>\n",
       "      <td>5.722788</td>\n",
       "      <td>5.707</td>\n",
       "      <td>...</td>\n",
       "      <td>10</td>\n",
       "      <td>29</td>\n",
       "      <td>363746</td>\n",
       "      <td>206.648437</td>\n",
       "      <td>54.432659</td>\n",
       "      <td>10.333316</td>\n",
       "      <td>-18.532996</td>\n",
       "      <td>-4.750367</td>\n",
       "      <td>67231.0</td>\n",
       "      <td></td>\n",
       "    </tr>\n",
       "  </tbody>\n",
       "</table>\n",
       "<p>5 rows × 23 columns</p>\n",
       "</div>"
      ],
      "text/plain": [
       "  index  tgas_row  row_id       tgas_source_id     tgas_ra   tgas_dec  \\\n",
       "0   931    366159     931  1577006815932416128  195.819469  57.315207   \n",
       "1  1687    371817    1687  1611685687553578752  214.072565  58.389402   \n",
       "2  1888    363433    1888  1559292481018181632  205.978118  52.064391   \n",
       "3  2089    363738    2089  1561366778423093248  207.114201  54.042699   \n",
       "4  2096    363746    2096  1561439689788561664  206.648437  54.432659   \n",
       "\n",
       "   tgas_parallax  tgas_distance  tgas_gmag  tmass_jmag     ...     group_id  \\\n",
       "0      10.245887      97.854279   8.939998       8.033     ...           10   \n",
       "1       9.340722     107.483816   8.402097       7.698     ...           10   \n",
       "2      10.737181      93.477575   6.050999       5.953     ...           10   \n",
       "3      10.709244      93.590625  10.724721       9.433     ...           10   \n",
       "4      10.333316      97.710103   5.722788       5.707     ...           10   \n",
       "\n",
       "  group_size   index          ra        dec   parallax       pmra     pmdec  \\\n",
       "0         29  366159  195.819469  57.315207  10.245887 -17.102634 -8.196426   \n",
       "1         29  371817  214.072565  58.389402   9.340722 -16.254402 -2.902562   \n",
       "2         29  363433  205.978118  52.064391  10.737181 -18.270104 -5.604706   \n",
       "3         29  363738  207.114201  54.042699  10.709244 -18.287732 -3.933854   \n",
       "4         29  363746  206.648437  54.432659  10.333316 -18.532996 -4.750367   \n",
       "\n",
       "       hip   tycho2_id  \n",
       "0  63702.0              \n",
       "1  69721.0              \n",
       "2  67005.0              \n",
       "3      NaN  3851-600-1  \n",
       "4  67231.0              \n",
       "\n",
       "[5 rows x 23 columns]"
      ]
     },
     "execution_count": 5,
     "metadata": {},
     "output_type": "execute_result"
    }
   ],
   "source": [
    "df.head()"
   ]
  },
  {
   "cell_type": "code",
   "execution_count": 6,
   "metadata": {
    "collapsed": false
   },
   "outputs": [],
   "source": [
    "df['tycho2_id'] = df.tycho2_id.astype('str')"
   ]
  },
  {
   "cell_type": "code",
   "execution_count": 7,
   "metadata": {
    "collapsed": false
   },
   "outputs": [],
   "source": [
    "df['object_id'] = ['hip {:.0f}'.format(row.hip) if row.hip > 0\n",
    "                   else 'tyc {}'.format(row.tycho2_id) for i, row in df.iterrows()]"
   ]
  },
  {
   "cell_type": "code",
   "execution_count": 58,
   "metadata": {
    "collapsed": false
   },
   "outputs": [],
   "source": [
    "customSimbad = Simbad()\n",
    "customSimbad.add_votable_fields('sptype')\n",
    "customSimbad.add_votable_fields('orv')\n",
    "customSimbad.add_votable_fields('bibcodelist(1850-2017)')"
   ]
  },
  {
   "cell_type": "code",
   "execution_count": 52,
   "metadata": {
    "collapsed": false
   },
   "outputs": [
    {
     "name": "stdout",
     "output_type": "stream",
     "text": [
      "--NOTES--\n",
      "\n",
      "1. The parameter filtername must correspond to an existing filter. Filters include: B,V,R,I,J,K.  They are checked by SIMBAD but not astroquery.simbad\n",
      "\n",
      "2. Fields beginning with rvz display the data as it is in the database. Fields beginning with rv force the display as a radial velocity. Fields beginning with z force the display as a redshift\n",
      "\n",
      "3. For each measurement catalog, the VOTable contains all fields of the first measurement. When applicable, the first measurement is the mean one. \n",
      "\n",
      "Available VOTABLE fields:\n",
      "\n",
      "          col0                   col1              col2     \n",
      "------------------------ -------------------- --------------\n",
      "      bibcodelist(y1-y2) fluxdata(filtername)       plx_qual\n",
      "                     cel                 gcrv             pm\n",
      "                    cl.g                  gen     pm_bibcode\n",
      "                coo(opt)                   gj   pm_err_angle\n",
      "             coo_bibcode                 hbet    pm_err_maja\n",
      "           coo_err_angle                hbet1    pm_err_mina\n",
      "            coo_err_maja                 hgam        pm_qual\n",
      "            coo_err_mina              id(opt)          pmdec\n",
      "                coo_qual                 iras     pmdec_prec\n",
      "          coo_wavelength                  irc           pmra\n",
      "             coordinates                  iso      pmra_prec\n",
      "                dec(opt)                  iue            pos\n",
      "                dec_prec                 jp11           posa\n",
      "                     dim              main_id  propermotions\n",
      "               dim_angle         measurements        ra(opt)\n",
      "             dim_bibcode               mesplx        ra_prec\n",
      "                dim_incl                mespm            rot\n",
      "             dim_majaxis                   mk       rv_value\n",
      "             dim_minaxis            morphtype           rvel\n",
      "                dim_qual                   mt    rvz_bibcode\n",
      "          dim_wavelength           mt_bibcode      rvz_error\n",
      "              dimensions              mt_qual       rvz_qual\n",
      "                einstein                  orv     rvz_radvel\n",
      "                    fe_h                otype       rvz_type\n",
      "        flux(filtername)           otype(opt) rvz_wavelength\n",
      "flux_bibcode(filtername)             parallax            sao\n",
      "  flux_error(filtername)                  plx             sp\n",
      "   flux_name(filtername)          plx_bibcode     sp_bibcode\n",
      "   flux_qual(filtername)            plx_error      sp_nature\n",
      "   flux_unit(filtername)             plx_prec        sp_qual\n",
      "                  sptype                   --             --\n",
      "For more information on a field :\n",
      "Simbad.get_field_description ('field_name') \n",
      "Currently active VOTABLE fields:\n",
      " ['main_id', 'coordinates', 'sptype', 'bibcodelist(1850-2017)']\n"
     ]
    },
    {
     "data": {
      "text/plain": [
       "NoneType"
      ]
     },
     "execution_count": 52,
     "metadata": {},
     "output_type": "execute_result"
    }
   ],
   "source": [
    "customSimbad.list_votable_fields()"
   ]
  },
  {
   "cell_type": "code",
   "execution_count": 53,
   "metadata": {
    "collapsed": false
   },
   "outputs": [
    {
     "name": "stdout",
     "output_type": "stream",
     "text": [
      "Radial velocity value. Eventually translated from a redshift\n",
      "Radial velocities of galaxies\n",
      "General Catalogue of Radial Velocities\n",
      "oRV stellar radial velocities (will shortly replace \n",
      "              the GCRV measurements.\n"
     ]
    }
   ],
   "source": [
    "for field in ['rv_value', 'rvel', 'gcrv', 'orv']:\n",
    "    customSimbad.get_field_description(field)"
   ]
  },
  {
   "cell_type": "code",
   "execution_count": 59,
   "metadata": {
    "collapsed": true
   },
   "outputs": [],
   "source": [
    "result = customSimbad.query_objects(df.object_id)"
   ]
  },
  {
   "cell_type": "code",
   "execution_count": 62,
   "metadata": {
    "collapsed": false
   },
   "outputs": [
    {
     "data": {
      "text/html": [
       "&lt;Table masked=True length=8&gt;\n",
       "<table id=\"table4618617016\" class=\"table-striped table-bordered table-condensed\">\n",
       "<thead><tr><th>MAIN_ID</th><th>oRV_RVel</th><th>oRV_Q</th><th>oRV_Nmes</th><th>oRV_Rem</th><th>oRV_Orig</th><th>oRV_Dis</th><th>oRV_bibcode</th></tr></thead>\n",
       "<thead><tr><th></th><th>km / s</th><th></th><th></th><th></th><th></th><th>a / mm</th><th></th></tr></thead>\n",
       "<thead><tr><th>object</th><th>float32</th><th>str1</th><th>int32</th><th>object</th><th>str2</th><th>int32</th><th>str19</th></tr></thead>\n",
       "<tr><td>HR  5169</td><td>-6.5</td><td>C</td><td>10</td><td></td><td>##</td><td>0</td><td>1979IAUS...30...57E</td></tr>\n",
       "<tr><td>*  84 UMa</td><td>-1.8</td><td>B</td><td>47</td><td></td><td>##</td><td>0</td><td>1979IAUS...30...57E</td></tr>\n",
       "<tr><td>*  81 UMa</td><td>-7.0</td><td>D</td><td>25</td><td></td><td>##</td><td>0</td><td>1979IAUS...30...57E</td></tr>\n",
       "<tr><td>HD 124370</td><td>4.0</td><td>C</td><td>2</td><td></td><td>##</td><td>0</td><td>1953GCRV..C......0W</td></tr>\n",
       "<tr><td>HR  5345</td><td>-15.0</td><td>C</td><td>4</td><td></td><td>##</td><td>0</td><td>1953GCRV..C......0W</td></tr>\n",
       "<tr><td>HR  5372</td><td>-3.2</td><td>B</td><td>4</td><td></td><td>##</td><td>0</td><td>1953GCRV..C......0W</td></tr>\n",
       "<tr><td>HD 133909</td><td>-9.0</td><td>D</td><td>6</td><td></td><td>##</td><td>0</td><td>1953GCRV..C......0W</td></tr>\n",
       "<tr><td>HR  5280</td><td>-9.5</td><td>C</td><td>10</td><td></td><td>##</td><td>0</td><td>1979IAUS...30...57E</td></tr>\n",
       "</table>"
      ],
      "text/plain": [
       "<Table masked=True length=8>\n",
       " MAIN_ID  oRV_RVel oRV_Q oRV_Nmes oRV_Rem oRV_Orig oRV_Dis     oRV_bibcode    \n",
       "           km / s                                   a / mm                    \n",
       "  object  float32   str1  int32    object   str2    int32         str19       \n",
       "--------- -------- ----- -------- ------- -------- ------- -------------------\n",
       " HR  5169     -6.5     C       10               ##       0 1979IAUS...30...57E\n",
       "*  84 UMa     -1.8     B       47               ##       0 1979IAUS...30...57E\n",
       "*  81 UMa     -7.0     D       25               ##       0 1979IAUS...30...57E\n",
       "HD 124370      4.0     C        2               ##       0 1953GCRV..C......0W\n",
       " HR  5345    -15.0     C        4               ##       0 1953GCRV..C......0W\n",
       " HR  5372     -3.2     B        4               ##       0 1953GCRV..C......0W\n",
       "HD 133909     -9.0     D        6               ##       0 1953GCRV..C......0W\n",
       " HR  5280     -9.5     C       10               ##       0 1979IAUS...30...57E"
      ]
     },
     "execution_count": 62,
     "metadata": {},
     "output_type": "execute_result"
    }
   ],
   "source": [
    "result['MAIN_ID', 'oRV_RVel',\n",
    " 'oRV_Q',\n",
    " 'oRV_Nmes',\n",
    " 'oRV_Rem',\n",
    " 'oRV_Orig',\n",
    " 'oRV_Dis',\n",
    " 'oRV_bibcode',][result['oRV_RVel'].mask==False]"
   ]
  },
  {
   "cell_type": "code",
   "execution_count": 10,
   "metadata": {
    "collapsed": false,
    "scrolled": false
   },
   "outputs": [
    {
     "name": "stderr",
     "output_type": "stream",
     "text": [
      "/Users/semyeong/anaconda2/envs/gwb/lib/python3.5/site-packages/astropy/table/column.py:1096: MaskedArrayFutureWarning: setting an item on a masked array which has a shared mask will not copy the mask and also change the original mask array in the future.\n",
      "Check the NumPy 1.11 release notes for more information.\n",
      "  ma.MaskedArray.__setitem__(self, index, value)\n"
     ]
    },
    {
     "data": {
      "text/html": [
       "&lt;Table masked=True length=29&gt;\n",
       "<table id=\"table4368650928\" class=\"table-striped table-bordered table-condensed\">\n",
       "<thead><tr><th>MAIN_ID</th><th>SP_TYPE</th><th>BIBLIST_1850_2017</th></tr></thead>\n",
       "<thead><tr><th>object</th><th>object</th><th>int32</th></tr></thead>\n",
       "<tr><td>TYC 3860-1483-1</td><td></td><td>0</td></tr>\n",
       "<tr><td>TYC 3471-233-1</td><td></td><td>0</td></tr>\n",
       "<tr><td>TYC 4173-609-1</td><td></td><td>0</td></tr>\n",
       "<tr><td>TYC 3851-600-1</td><td></td><td>0</td></tr>\n",
       "<tr><td>TYC 3867-1373-1</td><td></td><td>0</td></tr>\n",
       "<tr><td>HD 234061</td><td>G0</td><td>0</td></tr>\n",
       "<tr><td>HD 234065</td><td>G5</td><td>0</td></tr>\n",
       "<tr><td>TYC 3875-762-1</td><td></td><td>0</td></tr>\n",
       "<tr><td>HD 238351</td><td>G0</td><td>0</td></tr>\n",
       "<tr><td>TYC 3868-177-1</td><td></td><td>0</td></tr>\n",
       "<tr><td>...</td><td>...</td><td>...</td></tr>\n",
       "<tr><td>HD 135501</td><td>A2</td><td>7</td></tr>\n",
       "<tr><td>HD 125557</td><td>A2</td><td>8</td></tr>\n",
       "<tr><td>HD 124370</td><td>F2IV</td><td>11</td></tr>\n",
       "<tr><td>HD 129865</td><td>F0</td><td>16</td></tr>\n",
       "<tr><td>HR  5345</td><td>A4V</td><td>20</td></tr>\n",
       "<tr><td>HR  5280</td><td>A2V</td><td>26</td></tr>\n",
       "<tr><td>HR  5372</td><td>A5Vn</td><td>30</td></tr>\n",
       "<tr><td>HR  5169</td><td>A1V</td><td>45</td></tr>\n",
       "<tr><td>*  81 UMa</td><td>A0V</td><td>59</td></tr>\n",
       "<tr><td>*  84 UMa</td><td>A0VpSrCrEu</td><td>125</td></tr>\n",
       "</table>"
      ],
      "text/plain": [
       "<Table masked=True length=29>\n",
       "    MAIN_ID      SP_TYPE   BIBLIST_1850_2017\n",
       "     object       object         int32      \n",
       "--------------- ---------- -----------------\n",
       "TYC 3860-1483-1                            0\n",
       " TYC 3471-233-1                            0\n",
       " TYC 4173-609-1                            0\n",
       " TYC 3851-600-1                            0\n",
       "TYC 3867-1373-1                            0\n",
       "      HD 234061         G0                 0\n",
       "      HD 234065         G5                 0\n",
       " TYC 3875-762-1                            0\n",
       "      HD 238351         G0                 0\n",
       " TYC 3868-177-1                            0\n",
       "            ...        ...               ...\n",
       "      HD 135501         A2                 7\n",
       "      HD 125557         A2                 8\n",
       "      HD 124370       F2IV                11\n",
       "      HD 129865         F0                16\n",
       "       HR  5345        A4V                20\n",
       "       HR  5280        A2V                26\n",
       "       HR  5372       A5Vn                30\n",
       "       HR  5169        A1V                45\n",
       "      *  81 UMa        A0V                59\n",
       "      *  84 UMa A0VpSrCrEu               125"
      ]
     },
     "execution_count": 10,
     "metadata": {},
     "output_type": "execute_result"
    }
   ],
   "source": [
    "result.sort('BIBLIST_1850_2017')\n",
    "result['MAIN_ID', 'SP_TYPE', 'BIBLIST_1850_2017']"
   ]
  },
  {
   "cell_type": "code",
   "execution_count": 11,
   "metadata": {
    "collapsed": false
   },
   "outputs": [],
   "source": [
    "import sys\n",
    "sys.path.append('../')\n",
    "import tap\n",
    "\n",
    "class SimbadTAP(tap.TAP_Service):\n",
    "    def __init__(self, *args, **kwargs):\n",
    "        host = \"simbad.u-strasbg.fr\"\n",
    "        port = 80\n",
    "        path = \"/simbad/sim-tap\"\n",
    "        tap.TAP_Service.__init__(self, host, path, port, *args, **kwargs)"
   ]
  },
  {
   "cell_type": "code",
   "execution_count": 18,
   "metadata": {
    "collapsed": true
   },
   "outputs": [],
   "source": [
    "query_template = \"\"\"\n",
    "SELECT BIBCode,\n",
    "       Journal,\n",
    "       Title,\n",
    "       Year,\n",
    "       Volume,\n",
    "       DOI\n",
    "FROM ref JOIN has_ref ON oidbibref = oidbib JOIN ident ON has_ref.oidref = ident.oidref\n",
    "WHERE id = '{}'\n",
    "ORDER BY Year DESC;\n",
    "\"\"\""
   ]
  },
  {
   "cell_type": "code",
   "execution_count": 19,
   "metadata": {
    "collapsed": false
   },
   "outputs": [],
   "source": [
    "mytap = SimbadTAP()"
   ]
  },
  {
   "cell_type": "code",
   "execution_count": 47,
   "metadata": {
    "collapsed": false
   },
   "outputs": [
    {
     "data": {
      "text/html": [
       "&lt;Table masked=True length=0&gt;\n",
       "<table id=\"table4628436752\" class=\"table-striped table-bordered table-condensed\">\n",
       "<thead><tr><th>oidbib</th><th>bibcode</th><th>year</th><th>journal</th><th>page</th><th>last_page</th><th>volume</th><th>title</th><th>doi</th><th>nbobject</th></tr></thead>\n",
       "<thead><tr><th>int64</th><th>object</th><th>int16</th><th>object</th><th>int32</th><th>int32</th><th>int32</th><th>object</th><th>object</th><th>int32</th></tr></thead>\n",
       "</table>"
      ],
      "text/plain": [
       "<Table masked=True length=0>\n",
       "oidbib bibcode  year journal  page last_page volume title   doi   nbobject\n",
       "int64   object int16  object int32   int32   int32  object object  int32  \n",
       "------ ------- ----- ------- ----- --------- ------ ------ ------ --------"
      ]
     },
     "execution_count": 47,
     "metadata": {},
     "output_type": "execute_result"
    }
   ],
   "source": [
    "mytap.get_table_info('ref')"
   ]
  },
  {
   "cell_type": "code",
   "execution_count": 24,
   "metadata": {
    "collapsed": true
   },
   "outputs": [],
   "source": [
    "import time"
   ]
  },
  {
   "cell_type": "code",
   "execution_count": 25,
   "metadata": {
    "collapsed": false
   },
   "outputs": [
    {
     "name": "stdout",
     "output_type": "stream",
     "text": [
      "searching for TYC 3860-1483-1\n",
      "searching for TYC 3471-233-1\n",
      "searching for TYC 4173-609-1\n",
      "searching for TYC 3851-600-1\n",
      "searching for TYC 3867-1373-1\n",
      "searching for HD 234061\n",
      "searching for HD 234065\n",
      "searching for TYC 3875-762-1\n",
      "searching for HD 238351\n",
      "searching for TYC 3868-177-1\n",
      "searching for TYC 4174-1117-1\n",
      "searching for BD+51  1966\n",
      "searching for TYC 3861-1374-1\n",
      "searching for BD+60  1587\n",
      "searching for BD+56  1762\n",
      "searching for HD 113491\n",
      "searching for HD 125259\n",
      "searching for HD 133909\n",
      "searching for NAME Stella Ludoviciana\n",
      "searching for HD 135501\n",
      "searching for HD 125557\n",
      "searching for HD 124370\n",
      "searching for HD 129865\n",
      "searching for HR  5345\n",
      "searching for HR  5280\n",
      "searching for HR  5372\n",
      "searching for HR  5169\n",
      "searching for *  81 UMa\n",
      "searching for *  84 UMa\n"
     ]
    }
   ],
   "source": [
    "biblist = []\n",
    "for iden in result['MAIN_ID']:\n",
    "    print('searching for {}'.format(iden.decode()))\n",
    "    biblist.append(mytap.query(query_template.format(iden.decode())))\n",
    "    time.sleep(5)  ## seems that I'm violating some rate limit or something"
   ]
  },
  {
   "cell_type": "code",
   "execution_count": 27,
   "metadata": {
    "collapsed": false,
    "scrolled": false
   },
   "outputs": [],
   "source": [
    "from astropy import table"
   ]
  },
  {
   "cell_type": "code",
   "execution_count": 31,
   "metadata": {
    "collapsed": false
   },
   "outputs": [],
   "source": [
    "dfBib = pd.concat([t.to_pandas() for t in biblist])"
   ]
  },
  {
   "cell_type": "code",
   "execution_count": 39,
   "metadata": {
    "collapsed": false
   },
   "outputs": [],
   "source": [
    "# add which object's reference it is\n",
    "for i, t in enumerate(biblist):\n",
    "    t['obj'] = [df.object_id[i] for j in range(len(t))]"
   ]
  },
  {
   "cell_type": "code",
   "execution_count": 41,
   "metadata": {
    "collapsed": false
   },
   "outputs": [],
   "source": [
    "tbib = table.vstack(list(filter(lambda x: len(x)>0, biblist)))"
   ]
  },
  {
   "cell_type": "code",
   "execution_count": 43,
   "metadata": {
    "collapsed": false
   },
   "outputs": [],
   "source": [
    "tbib['obj', 'title'].show_in_browser()"
   ]
  },
  {
   "cell_type": "code",
   "execution_count": 45,
   "metadata": {
    "collapsed": false
   },
   "outputs": [],
   "source": [
    "tbib.write('biblist_group10.csv')"
   ]
  },
  {
   "cell_type": "code",
   "execution_count": 47,
   "metadata": {
    "collapsed": true
   },
   "outputs": [],
   "source": [
    "tbib.write('biblist_group10.html')"
   ]
  },
  {
   "cell_type": "code",
   "execution_count": 48,
   "metadata": {
    "collapsed": true
   },
   "outputs": [],
   "source": [
    "!open biblist_group10.html"
   ]
  },
  {
   "cell_type": "code",
   "execution_count": 33,
   "metadata": {
    "collapsed": false
   },
   "outputs": [
    {
     "data": {
      "text/plain": [
       "0      b'X-ray-emitting stars identified from the ROS...\n",
       "0      b'Radial velocities for the HIPPARCOS-Gaia Hun...\n",
       "1      b'Fundamental parameters and infrared excesses...\n",
       "2      b'Bayesian inference of stellar parameters and...\n",
       "0      b'Radial velocities for the HIPPARCOS-Gaia Hun...\n",
       "1      b'Fundamental parameters and infrared excesses...\n",
       "2      b'The Tokyo PMC Catalog 90-93: Catalog of posi...\n",
       "0      b'Radial velocities for the HIPPARCOS-Gaia Hun...\n",
       "1      b'Fundamental parameters and infrared excesses...\n",
       "2      b'Bayesian inference of stellar parameters and...\n",
       "0      b'Bright 22 {mu}m excess candidates from the w...\n",
       "1      b'Radial velocities for the HIPPARCOS-Gaia Hun...\n",
       "2      b'Fundamental parameters and infrared excesses...\n",
       "3      b'A catalogue of young runaway Hipparcos stars...\n",
       "4      b'The Tokyo PMC Catalog 90-93: Catalog of posi...\n",
       "5      b'Vitesses radiales. Catalogue WEB: Wilson Eva...\n",
       "6      b'UBV photometry of stars whose positions are ...\n",
       "0      b'Parallactic motion for companion discovery: ...\n",
       "1      b'Discovery of a faint companion to Alcor usin...\n",
       "2      b'The early search for stellar parallax : Gali...\n",
       "3      b'Radial velocities. IX. Measurements of 2800 ...\n",
       "4      b'The ultraviolet-bright stars of omega Centau...\n",
       "5      b'Energy distributions in the spectra of 10 B ...\n",
       "6      b'Photoelectric colours of B and A-type stars ...\n",
       "0      b'Radial velocities for the HIPPARCOS-Gaia Hun...\n",
       "1      b'Fundamental parameters and infrared excesses...\n",
       "2      b'Pulkovo compilation of radial velocities for...\n",
       "3      b'Radial velocities. IX. Measurements of 2800 ...\n",
       "4      b\"Mesures d'etoiles doubles faites a Nice (4e ...\n",
       "5          b'Visual multiples. VII. MK classifications.'\n",
       "                             ...                        \n",
       "95     b'Spectrophotometry of peculiar B and A stars....\n",
       "96        b'Photometric parameters for Am and Ap stars.'\n",
       "97     b'Ultraviolet photometric observations of Ap a...\n",
       "98     b'Spectral classification from the ultraviolet...\n",
       "99                    b'Possibly near-by open clusters.'\n",
       "100    b'A photoelectric peculiarity index in the Ap ...\n",
       "101    b'A photoelectric parameter of the peculiarity...\n",
       "102    b'Interstellar circular polarization. II. Nort...\n",
       "103                 b'60th name-list of variable stars.'\n",
       "104    b'Spectrum variations in the Ap-type stars. I....\n",
       "105                              b'The manganese stars.'\n",
       "106    b'Luminosities and motions of peculiar B-type ...\n",
       "107               b'Uvby photometry of Am and Ap stars.'\n",
       "108                b'The binary frequency for Ap stars.'\n",
       "109    b'Ultraviolet photometry from the Orbiting Ast...\n",
       "110                b'Rotational velocities of Ap stars.'\n",
       "111    b'Four-color and H beta photometry for the bri...\n",
       "112    b'Uber die veranderlichkeit der sterne des spe...\n",
       "113      b'Photoelectric observations of early A stars.'\n",
       "114    b'A catalogue of proper motions for 437 A stars.'\n",
       "115    b'Rotation and chemical abundances in the pecu...\n",
       "116    b\"Observations spectrographiques d'etoiles A a...\n",
       "117    b'Investigation of the magnetic and related st...\n",
       "118    b'Catalogue et bibliographie des etoiles A a s...\n",
       "119    b'Catalogue et bibliographie des etoiles a spe...\n",
       "120                      b'A catalog of magnetic stars.'\n",
       "121    b'The position of the peculiar A-type stars in...\n",
       "122    b'Lines of neutral oxygen in the infrared spec...\n",
       "123    b'Some evidence for the existence of a peculia...\n",
       "124         b'Spectroscopic magnitudes of A-type stars.'\n",
       "Name: title, dtype: object"
      ]
     },
     "execution_count": 33,
     "metadata": {},
     "output_type": "execute_result"
    }
   ],
   "source": [
    "dfBib.title"
   ]
  },
  {
   "cell_type": "code",
   "execution_count": 22,
   "metadata": {
    "collapsed": false
   },
   "outputs": [
    {
     "name": "stdout",
     "output_type": "stream",
     "text": [
      "\n",
      "SELECT BIBCode,\n",
      "       Journal,\n",
      "       Title,\n",
      "       Year,\n",
      "       Volume,\n",
      "       DOI\n",
      "FROM ref JOIN has_ref ON oidbibref = oidbib JOIN ident ON has_ref.oidref = ident.oidref\n",
      "WHERE id = 'HD 125259'\n",
      "ORDER BY Year DESC;\n",
      "\n"
     ]
    }
   ],
   "source": [
    "print(query_template.format(iden.decode()))"
   ]
  },
  {
   "cell_type": "code",
   "execution_count": 52,
   "metadata": {
    "collapsed": false
   },
   "outputs": [],
   "source": [
    "result = mytap.query(query)"
   ]
  },
  {
   "cell_type": "code",
   "execution_count": 54,
   "metadata": {
    "collapsed": false
   },
   "outputs": [],
   "source": [
    "result.show_in_browser()"
   ]
  },
  {
   "cell_type": "code",
   "execution_count": null,
   "metadata": {
    "collapsed": true
   },
   "outputs": [],
   "source": []
  }
 ],
 "metadata": {
  "anaconda-cloud": {},
  "kernelspec": {
   "display_name": "Python [conda env:gwb]",
   "language": "python",
   "name": "conda-env-gwb-py"
  },
  "language_info": {
   "codemirror_mode": {
    "name": "ipython",
    "version": 3
   },
   "file_extension": ".py",
   "mimetype": "text/x-python",
   "name": "python",
   "nbconvert_exporter": "python",
   "pygments_lexer": "ipython3",
   "version": "3.5.2"
  }
 },
 "nbformat": 4,
 "nbformat_minor": 2
}

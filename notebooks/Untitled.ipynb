{
 "cells": [
  {
   "cell_type": "code",
   "execution_count": 1,
   "metadata": {
    "collapsed": true
   },
   "outputs": [],
   "source": [
    "import pandas as pd\n",
    "import sqlite3"
   ]
  },
  {
   "cell_type": "code",
   "execution_count": 2,
   "metadata": {
    "collapsed": true
   },
   "outputs": [],
   "source": [
    "from bokeh.plotting import figure, output_notebook, show, gridplot"
   ]
  },
  {
   "cell_type": "code",
   "execution_count": 3,
   "metadata": {
    "collapsed": true
   },
   "outputs": [],
   "source": [
    "conn = sqlite3.connect(\"/Users/semyeong/data/cms.db\")"
   ]
  },
  {
   "cell_type": "code",
   "execution_count": 4,
   "metadata": {
    "collapsed": false
   },
   "outputs": [],
   "source": [
    "query = \"\"\"\n",
    "select * from star\n",
    "where star.group_size > 5\n",
    "\"\"\"\n",
    "df = pd.read_sql(query, conn)"
   ]
  },
  {
   "cell_type": "code",
   "execution_count": 5,
   "metadata": {
    "collapsed": false
   },
   "outputs": [
    {
     "data": {
      "text/html": [
       "<div>\n",
       "<table border=\"1\" class=\"dataframe\">\n",
       "  <thead>\n",
       "    <tr style=\"text-align: right;\">\n",
       "      <th></th>\n",
       "      <th>index</th>\n",
       "      <th>tgas_row</th>\n",
       "      <th>row_id</th>\n",
       "      <th>tgas_source_id</th>\n",
       "      <th>tgas_ra</th>\n",
       "      <th>tgas_dec</th>\n",
       "      <th>tgas_parallax</th>\n",
       "      <th>tgas_distance</th>\n",
       "      <th>tgas_gmag</th>\n",
       "      <th>tmass_jmag</th>\n",
       "      <th>rave_obs_id</th>\n",
       "      <th>rave_hrv</th>\n",
       "      <th>rave_ehrv</th>\n",
       "      <th>group_id</th>\n",
       "      <th>group_size</th>\n",
       "    </tr>\n",
       "  </thead>\n",
       "  <tbody>\n",
       "    <tr>\n",
       "      <th>0</th>\n",
       "      <td>24</td>\n",
       "      <td>1376306</td>\n",
       "      <td>24</td>\n",
       "      <td>5249564150230643712</td>\n",
       "      <td>148.398039</td>\n",
       "      <td>-64.192273</td>\n",
       "      <td>4.874103</td>\n",
       "      <td>208.913223</td>\n",
       "      <td>9.102932</td>\n",
       "      <td>8.635</td>\n",
       "      <td>None</td>\n",
       "      <td>NaN</td>\n",
       "      <td>NaN</td>\n",
       "      <td>23</td>\n",
       "      <td>10</td>\n",
       "    </tr>\n",
       "    <tr>\n",
       "      <th>1</th>\n",
       "      <td>45</td>\n",
       "      <td>1376341</td>\n",
       "      <td>45</td>\n",
       "      <td>5249607065541825920</td>\n",
       "      <td>147.079790</td>\n",
       "      <td>-64.055866</td>\n",
       "      <td>12.982130</td>\n",
       "      <td>77.160342</td>\n",
       "      <td>10.942701</td>\n",
       "      <td>9.514</td>\n",
       "      <td>None</td>\n",
       "      <td>NaN</td>\n",
       "      <td>NaN</td>\n",
       "      <td>30</td>\n",
       "      <td>8</td>\n",
       "    </tr>\n",
       "    <tr>\n",
       "      <th>2</th>\n",
       "      <td>46</td>\n",
       "      <td>1378100</td>\n",
       "      <td>46</td>\n",
       "      <td>5251845946093877632</td>\n",
       "      <td>157.781086</td>\n",
       "      <td>-64.181946</td>\n",
       "      <td>6.522304</td>\n",
       "      <td>155.029984</td>\n",
       "      <td>9.411639</td>\n",
       "      <td>8.680</td>\n",
       "      <td>None</td>\n",
       "      <td>NaN</td>\n",
       "      <td>NaN</td>\n",
       "      <td>5</td>\n",
       "      <td>59</td>\n",
       "    </tr>\n",
       "    <tr>\n",
       "      <th>3</th>\n",
       "      <td>74</td>\n",
       "      <td>1835147</td>\n",
       "      <td>74</td>\n",
       "      <td>6040704822735613312</td>\n",
       "      <td>238.235546</td>\n",
       "      <td>-29.842925</td>\n",
       "      <td>7.487752</td>\n",
       "      <td>136.099388</td>\n",
       "      <td>8.459302</td>\n",
       "      <td>7.945</td>\n",
       "      <td>None</td>\n",
       "      <td>NaN</td>\n",
       "      <td>NaN</td>\n",
       "      <td>27</td>\n",
       "      <td>9</td>\n",
       "    </tr>\n",
       "    <tr>\n",
       "      <th>4</th>\n",
       "      <td>78</td>\n",
       "      <td>5485</td>\n",
       "      <td>78</td>\n",
       "      <td>46975431705914112</td>\n",
       "      <td>62.677046</td>\n",
       "      <td>18.423125</td>\n",
       "      <td>21.314055</td>\n",
       "      <td>46.969062</td>\n",
       "      <td>6.477087</td>\n",
       "      <td>5.795</td>\n",
       "      <td>None</td>\n",
       "      <td>NaN</td>\n",
       "      <td>NaN</td>\n",
       "      <td>2</td>\n",
       "      <td>118</td>\n",
       "    </tr>\n",
       "  </tbody>\n",
       "</table>\n",
       "</div>"
      ],
      "text/plain": [
       "   index  tgas_row  row_id       tgas_source_id     tgas_ra   tgas_dec  \\\n",
       "0     24   1376306      24  5249564150230643712  148.398039 -64.192273   \n",
       "1     45   1376341      45  5249607065541825920  147.079790 -64.055866   \n",
       "2     46   1378100      46  5251845946093877632  157.781086 -64.181946   \n",
       "3     74   1835147      74  6040704822735613312  238.235546 -29.842925   \n",
       "4     78      5485      78    46975431705914112   62.677046  18.423125   \n",
       "\n",
       "   tgas_parallax  tgas_distance  tgas_gmag  tmass_jmag rave_obs_id  rave_hrv  \\\n",
       "0       4.874103     208.913223   9.102932       8.635        None       NaN   \n",
       "1      12.982130      77.160342  10.942701       9.514        None       NaN   \n",
       "2       6.522304     155.029984   9.411639       8.680        None       NaN   \n",
       "3       7.487752     136.099388   8.459302       7.945        None       NaN   \n",
       "4      21.314055      46.969062   6.477087       5.795        None       NaN   \n",
       "\n",
       "   rave_ehrv  group_id  group_size  \n",
       "0        NaN        23          10  \n",
       "1        NaN        30           8  \n",
       "2        NaN         5          59  \n",
       "3        NaN        27           9  \n",
       "4        NaN         2         118  "
      ]
     },
     "execution_count": 5,
     "metadata": {},
     "output_type": "execute_result"
    }
   ],
   "source": [
    "df.head()"
   ]
  },
  {
   "cell_type": "code",
   "execution_count": 6,
   "metadata": {
    "collapsed": false
   },
   "outputs": [
    {
     "data": {
      "text/plain": [
       "1264"
      ]
     },
     "execution_count": 6,
     "metadata": {},
     "output_type": "execute_result"
    }
   ],
   "source": [
    "len(df)"
   ]
  },
  {
   "cell_type": "code",
   "execution_count": 7,
   "metadata": {
    "collapsed": false
   },
   "outputs": [
    {
     "data": {
      "text/plain": [
       "50"
      ]
     },
     "execution_count": 7,
     "metadata": {},
     "output_type": "execute_result"
    }
   ],
   "source": [
    "df.group_id.unique().size"
   ]
  },
  {
   "cell_type": "code",
   "execution_count": 8,
   "metadata": {
    "collapsed": false
   },
   "outputs": [
    {
     "data": {
      "text/html": [
       "\n",
       "    <div class=\"bk-root\">\n",
       "        <a href=\"http://bokeh.pydata.org\" target=\"_blank\" class=\"bk-logo bk-logo-small bk-logo-notebook\"></a>\n",
       "        <span id=\"74061978-d1ac-43ab-852b-bd6bbd085aa6\">Loading BokehJS ...</span>\n",
       "    </div>"
      ]
     },
     "metadata": {},
     "output_type": "display_data"
    },
    {
     "data": {
      "application/javascript": [
       "\n",
       "(function(global) {\n",
       "  function now() {\n",
       "    return new Date();\n",
       "  }\n",
       "\n",
       "  var force = true;\n",
       "\n",
       "  if (typeof (window._bokeh_onload_callbacks) === \"undefined\" || force === true) {\n",
       "    window._bokeh_onload_callbacks = [];\n",
       "    window._bokeh_is_loading = undefined;\n",
       "  }\n",
       "\n",
       "\n",
       "  \n",
       "  if (typeof (window._bokeh_timeout) === \"undefined\" || force === true) {\n",
       "    window._bokeh_timeout = Date.now() + 5000;\n",
       "    window._bokeh_failed_load = false;\n",
       "  }\n",
       "\n",
       "  var NB_LOAD_WARNING = {'data': {'text/html':\n",
       "     \"<div style='background-color: #fdd'>\\n\"+\n",
       "     \"<p>\\n\"+\n",
       "     \"BokehJS does not appear to have successfully loaded. If loading BokehJS from CDN, this \\n\"+\n",
       "     \"may be due to a slow or bad network connection. Possible fixes:\\n\"+\n",
       "     \"</p>\\n\"+\n",
       "     \"<ul>\\n\"+\n",
       "     \"<li>re-rerun `output_notebook()` to attempt to load from CDN again, or</li>\\n\"+\n",
       "     \"<li>use INLINE resources instead, as so:</li>\\n\"+\n",
       "     \"</ul>\\n\"+\n",
       "     \"<code>\\n\"+\n",
       "     \"from bokeh.resources import INLINE\\n\"+\n",
       "     \"output_notebook(resources=INLINE)\\n\"+\n",
       "     \"</code>\\n\"+\n",
       "     \"</div>\"}};\n",
       "\n",
       "  function display_loaded() {\n",
       "    if (window.Bokeh !== undefined) {\n",
       "      document.getElementById(\"74061978-d1ac-43ab-852b-bd6bbd085aa6\").textContent = \"BokehJS successfully loaded.\";\n",
       "    } else if (Date.now() < window._bokeh_timeout) {\n",
       "      setTimeout(display_loaded, 100)\n",
       "    }\n",
       "  }\n",
       "\n",
       "  function run_callbacks() {\n",
       "    window._bokeh_onload_callbacks.forEach(function(callback) { callback() });\n",
       "    delete window._bokeh_onload_callbacks\n",
       "    console.info(\"Bokeh: all callbacks have finished\");\n",
       "  }\n",
       "\n",
       "  function load_libs(js_urls, callback) {\n",
       "    window._bokeh_onload_callbacks.push(callback);\n",
       "    if (window._bokeh_is_loading > 0) {\n",
       "      console.log(\"Bokeh: BokehJS is being loaded, scheduling callback at\", now());\n",
       "      return null;\n",
       "    }\n",
       "    if (js_urls == null || js_urls.length === 0) {\n",
       "      run_callbacks();\n",
       "      return null;\n",
       "    }\n",
       "    console.log(\"Bokeh: BokehJS not loaded, scheduling load and callback at\", now());\n",
       "    window._bokeh_is_loading = js_urls.length;\n",
       "    for (var i = 0; i < js_urls.length; i++) {\n",
       "      var url = js_urls[i];\n",
       "      var s = document.createElement('script');\n",
       "      s.src = url;\n",
       "      s.async = false;\n",
       "      s.onreadystatechange = s.onload = function() {\n",
       "        window._bokeh_is_loading--;\n",
       "        if (window._bokeh_is_loading === 0) {\n",
       "          console.log(\"Bokeh: all BokehJS libraries loaded\");\n",
       "          run_callbacks()\n",
       "        }\n",
       "      };\n",
       "      s.onerror = function() {\n",
       "        console.warn(\"failed to load library \" + url);\n",
       "      };\n",
       "      console.log(\"Bokeh: injecting script tag for BokehJS library: \", url);\n",
       "      document.getElementsByTagName(\"head\")[0].appendChild(s);\n",
       "    }\n",
       "  };var element = document.getElementById(\"74061978-d1ac-43ab-852b-bd6bbd085aa6\");\n",
       "  if (element == null) {\n",
       "    console.log(\"Bokeh: ERROR: autoload.js configured with elementid '74061978-d1ac-43ab-852b-bd6bbd085aa6' but no matching script tag was found. \")\n",
       "    return false;\n",
       "  }\n",
       "\n",
       "  var js_urls = [\"https://cdn.pydata.org/bokeh/release/bokeh-0.12.4.min.js\", \"https://cdn.pydata.org/bokeh/release/bokeh-widgets-0.12.4.min.js\"];\n",
       "\n",
       "  var inline_js = [\n",
       "    function(Bokeh) {\n",
       "      Bokeh.set_log_level(\"info\");\n",
       "    },\n",
       "    \n",
       "    function(Bokeh) {\n",
       "      \n",
       "      document.getElementById(\"74061978-d1ac-43ab-852b-bd6bbd085aa6\").textContent = \"BokehJS is loading...\";\n",
       "    },\n",
       "    function(Bokeh) {\n",
       "      console.log(\"Bokeh: injecting CSS: https://cdn.pydata.org/bokeh/release/bokeh-0.12.4.min.css\");\n",
       "      Bokeh.embed.inject_css(\"https://cdn.pydata.org/bokeh/release/bokeh-0.12.4.min.css\");\n",
       "      console.log(\"Bokeh: injecting CSS: https://cdn.pydata.org/bokeh/release/bokeh-widgets-0.12.4.min.css\");\n",
       "      Bokeh.embed.inject_css(\"https://cdn.pydata.org/bokeh/release/bokeh-widgets-0.12.4.min.css\");\n",
       "    }\n",
       "  ];\n",
       "\n",
       "  function run_inline_js() {\n",
       "    \n",
       "    if ((window.Bokeh !== undefined) || (force === true)) {\n",
       "      for (var i = 0; i < inline_js.length; i++) {\n",
       "        inline_js[i](window.Bokeh);\n",
       "      }if (force === true) {\n",
       "        display_loaded();\n",
       "      }} else if (Date.now() < window._bokeh_timeout) {\n",
       "      setTimeout(run_inline_js, 100);\n",
       "    } else if (!window._bokeh_failed_load) {\n",
       "      console.log(\"Bokeh: BokehJS failed to load within specified timeout.\");\n",
       "      window._bokeh_failed_load = true;\n",
       "    } else if (force !== true) {\n",
       "      var cell = $(document.getElementById(\"74061978-d1ac-43ab-852b-bd6bbd085aa6\")).parents('.cell').data().cell;\n",
       "      cell.output_area.append_execute_result(NB_LOAD_WARNING)\n",
       "    }\n",
       "\n",
       "  }\n",
       "\n",
       "  if (window._bokeh_is_loading === 0) {\n",
       "    console.log(\"Bokeh: BokehJS loaded, going straight to plotting\");\n",
       "    run_inline_js();\n",
       "  } else {\n",
       "    load_libs(js_urls, function() {\n",
       "      console.log(\"Bokeh: BokehJS plotting callback run at\", now());\n",
       "      run_inline_js();\n",
       "    });\n",
       "  }\n",
       "}(this));"
      ]
     },
     "metadata": {},
     "output_type": "display_data"
    }
   ],
   "source": [
    "output_notebook()"
   ]
  },
  {
   "cell_type": "code",
   "execution_count": 9,
   "metadata": {
    "collapsed": true
   },
   "outputs": [],
   "source": [
    "from bokeh import palettes"
   ]
  },
  {
   "cell_type": "code",
   "execution_count": 10,
   "metadata": {
    "collapsed": false
   },
   "outputs": [],
   "source": [
    "colors=palettes.plasma(df.group_id.unique().size)"
   ]
  },
  {
   "cell_type": "code",
   "execution_count": 19,
   "metadata": {
    "collapsed": true
   },
   "outputs": [],
   "source": [
    "df['color'] = df.tgas_gmag - df.tmass_jmag\n",
    "df['gMag'] = df.tgas_gmag + 5*(pd.np.log10(df.tgas_parallax*1e-3)+1)"
   ]
  },
  {
   "cell_type": "code",
   "execution_count": 9,
   "metadata": {
    "collapsed": true
   },
   "outputs": [],
   "source": [
    "from bokeh.models import ColumnDataSource"
   ]
  },
  {
   "cell_type": "code",
   "execution_count": 36,
   "metadata": {
    "collapsed": false
   },
   "outputs": [
    {
     "data": {
      "text/plain": [
       "1264"
      ]
     },
     "execution_count": 36,
     "metadata": {},
     "output_type": "execute_result"
    }
   ],
   "source": [
    "df.tgas_ra.size"
   ]
  },
  {
   "cell_type": "code",
   "execution_count": 13,
   "metadata": {
    "collapsed": false
   },
   "outputs": [],
   "source": [
    "source = ColumnDataSource.from_df(df[['tgas_ra', 'tgas_dec']])"
   ]
  },
  {
   "cell_type": "code",
   "execution_count": 20,
   "metadata": {
    "collapsed": false
   },
   "outputs": [],
   "source": [
    "source = ColumnDataSource(data=dict(tgas_ra=df.tgas_ra[:], tgas_dec=df.tgas_dec[:],\n",
    "                                    color=df.color, gMag=df.gMag))"
   ]
  },
  {
   "cell_type": "code",
   "execution_count": 21,
   "metadata": {
    "collapsed": false
   },
   "outputs": [
    {
     "data": {
      "text/html": [
       "\n",
       "\n",
       "    <div class=\"bk-root\">\n",
       "        <div class=\"bk-plotdiv\" id=\"5458c169-8b3e-4834-8a2f-762092ea0f42\"></div>\n",
       "    </div>\n",
       "<script type=\"text/javascript\">\n",
       "  \n",
       "  (function(global) {\n",
       "    function now() {\n",
       "      return new Date();\n",
       "    }\n",
       "  \n",
       "    var force = false;\n",
       "  \n",
       "    if (typeof (window._bokeh_onload_callbacks) === \"undefined\" || force === true) {\n",
       "      window._bokeh_onload_callbacks = [];\n",
       "      window._bokeh_is_loading = undefined;\n",
       "    }\n",
       "  \n",
       "  \n",
       "    \n",
       "    if (typeof (window._bokeh_timeout) === \"undefined\" || force === true) {\n",
       "      window._bokeh_timeout = Date.now() + 0;\n",
       "      window._bokeh_failed_load = false;\n",
       "    }\n",
       "  \n",
       "    var NB_LOAD_WARNING = {'data': {'text/html':\n",
       "       \"<div style='background-color: #fdd'>\\n\"+\n",
       "       \"<p>\\n\"+\n",
       "       \"BokehJS does not appear to have successfully loaded. If loading BokehJS from CDN, this \\n\"+\n",
       "       \"may be due to a slow or bad network connection. Possible fixes:\\n\"+\n",
       "       \"</p>\\n\"+\n",
       "       \"<ul>\\n\"+\n",
       "       \"<li>re-rerun `output_notebook()` to attempt to load from CDN again, or</li>\\n\"+\n",
       "       \"<li>use INLINE resources instead, as so:</li>\\n\"+\n",
       "       \"</ul>\\n\"+\n",
       "       \"<code>\\n\"+\n",
       "       \"from bokeh.resources import INLINE\\n\"+\n",
       "       \"output_notebook(resources=INLINE)\\n\"+\n",
       "       \"</code>\\n\"+\n",
       "       \"</div>\"}};\n",
       "  \n",
       "    function display_loaded() {\n",
       "      if (window.Bokeh !== undefined) {\n",
       "        document.getElementById(\"5458c169-8b3e-4834-8a2f-762092ea0f42\").textContent = \"BokehJS successfully loaded.\";\n",
       "      } else if (Date.now() < window._bokeh_timeout) {\n",
       "        setTimeout(display_loaded, 100)\n",
       "      }\n",
       "    }\n",
       "  \n",
       "    function run_callbacks() {\n",
       "      window._bokeh_onload_callbacks.forEach(function(callback) { callback() });\n",
       "      delete window._bokeh_onload_callbacks\n",
       "      console.info(\"Bokeh: all callbacks have finished\");\n",
       "    }\n",
       "  \n",
       "    function load_libs(js_urls, callback) {\n",
       "      window._bokeh_onload_callbacks.push(callback);\n",
       "      if (window._bokeh_is_loading > 0) {\n",
       "        console.log(\"Bokeh: BokehJS is being loaded, scheduling callback at\", now());\n",
       "        return null;\n",
       "      }\n",
       "      if (js_urls == null || js_urls.length === 0) {\n",
       "        run_callbacks();\n",
       "        return null;\n",
       "      }\n",
       "      console.log(\"Bokeh: BokehJS not loaded, scheduling load and callback at\", now());\n",
       "      window._bokeh_is_loading = js_urls.length;\n",
       "      for (var i = 0; i < js_urls.length; i++) {\n",
       "        var url = js_urls[i];\n",
       "        var s = document.createElement('script');\n",
       "        s.src = url;\n",
       "        s.async = false;\n",
       "        s.onreadystatechange = s.onload = function() {\n",
       "          window._bokeh_is_loading--;\n",
       "          if (window._bokeh_is_loading === 0) {\n",
       "            console.log(\"Bokeh: all BokehJS libraries loaded\");\n",
       "            run_callbacks()\n",
       "          }\n",
       "        };\n",
       "        s.onerror = function() {\n",
       "          console.warn(\"failed to load library \" + url);\n",
       "        };\n",
       "        console.log(\"Bokeh: injecting script tag for BokehJS library: \", url);\n",
       "        document.getElementsByTagName(\"head\")[0].appendChild(s);\n",
       "      }\n",
       "    };var element = document.getElementById(\"5458c169-8b3e-4834-8a2f-762092ea0f42\");\n",
       "    if (element == null) {\n",
       "      console.log(\"Bokeh: ERROR: autoload.js configured with elementid '5458c169-8b3e-4834-8a2f-762092ea0f42' but no matching script tag was found. \")\n",
       "      return false;\n",
       "    }\n",
       "  \n",
       "    var js_urls = [];\n",
       "  \n",
       "    var inline_js = [\n",
       "      function(Bokeh) {\n",
       "        (function() {\n",
       "          var fn = function() {\n",
       "            var docs_json = {\"931635de-b62d-43be-9378-2e2f5dfbc944\":{\"roots\":{\"references\":[{\"attributes\":{\"plot\":{\"id\":\"7f14dbf3-c428-4390-ab8d-432bf8c7f912\",\"subtype\":\"Figure\",\"type\":\"Plot\"},\"ticker\":{\"id\":\"abcc4b80-4e51-4767-94dc-2b039f61ce8b\",\"type\":\"BasicTicker\"}},\"id\":\"4ffa2556-0dda-4aa3-bace-d4e2649c4b40\",\"type\":\"Grid\"},{\"attributes\":{\"callback\":null,\"overlay\":{\"id\":\"87a4911c-39a9-40e3-ba0e-e655d66cdc6e\",\"type\":\"BoxAnnotation\"},\"plot\":{\"id\":\"486f5389-f5ef-4b34-86d0-b482e3325e8c\",\"subtype\":\"Figure\",\"type\":\"Plot\"},\"renderers\":[{\"id\":\"bf7fe884-7807-492e-b360-161ac4eb8bb0\",\"type\":\"GlyphRenderer\"}]},\"id\":\"09c337a3-1a7d-4dd4-99cd-4534226c2fce\",\"type\":\"BoxSelectTool\"},{\"attributes\":{\"bottom_units\":\"screen\",\"fill_alpha\":{\"value\":0.5},\"fill_color\":{\"value\":\"lightgrey\"},\"left_units\":\"screen\",\"level\":\"overlay\",\"line_alpha\":{\"value\":1.0},\"line_color\":{\"value\":\"black\"},\"line_dash\":[4,4],\"line_width\":{\"value\":2},\"plot\":null,\"render_mode\":\"css\",\"right_units\":\"screen\",\"top_units\":\"screen\"},\"id\":\"b564d24d-4b9f-41d6-aceb-2c52740402cf\",\"type\":\"BoxAnnotation\"},{\"attributes\":{},\"id\":\"ce8031da-13d1-46d5-bf43-ceb876f7f655\",\"type\":\"BasicTicker\"},{\"attributes\":{\"bottom_units\":\"screen\",\"fill_alpha\":{\"value\":0.5},\"fill_color\":{\"value\":\"lightgrey\"},\"left_units\":\"screen\",\"level\":\"overlay\",\"line_alpha\":{\"value\":1.0},\"line_color\":{\"value\":\"black\"},\"line_dash\":[4,4],\"line_width\":{\"value\":2},\"plot\":null,\"render_mode\":\"css\",\"right_units\":\"screen\",\"top_units\":\"screen\"},\"id\":\"87a4911c-39a9-40e3-ba0e-e655d66cdc6e\",\"type\":\"BoxAnnotation\"},{\"attributes\":{},\"id\":\"0ae5e84b-7a1f-49b6-bd4a-85f784b1526e\",\"type\":\"BasicTickFormatter\"},{\"attributes\":{\"data_source\":{\"id\":\"f71a7231-e215-47a0-807c-32bab30778b1\",\"type\":\"ColumnDataSource\"},\"glyph\":{\"id\":\"9f5e7d61-6979-464d-9092-b9103e15e049\",\"type\":\"Circle\"},\"hover_glyph\":null,\"nonselection_glyph\":{\"id\":\"c016e4bc-dc27-4c81-bd7a-d200f95aa26c\",\"type\":\"Circle\"},\"selection_glyph\":null},\"id\":\"84b09bda-515d-4b19-ac1e-1c4368f56d35\",\"type\":\"GlyphRenderer\"},{\"attributes\":{\"below\":[{\"id\":\"f7b8f211-82ea-48cf-a4e2-880df90e54fa\",\"type\":\"LinearAxis\"}],\"left\":[{\"id\":\"4ab6fe93-284e-4b5c-ad84-e63553e7ffa9\",\"type\":\"LinearAxis\"}],\"plot_height\":400,\"plot_width\":400,\"renderers\":[{\"id\":\"f7b8f211-82ea-48cf-a4e2-880df90e54fa\",\"type\":\"LinearAxis\"},{\"id\":\"5ba1f855-7510-406b-8dbb-522843b75060\",\"type\":\"Grid\"},{\"id\":\"4ab6fe93-284e-4b5c-ad84-e63553e7ffa9\",\"type\":\"LinearAxis\"},{\"id\":\"af00b064-af72-4441-b7d0-83f2f556b9be\",\"type\":\"Grid\"},{\"id\":\"87a4911c-39a9-40e3-ba0e-e655d66cdc6e\",\"type\":\"BoxAnnotation\"},{\"id\":\"7a30d8ee-5d64-486a-98e8-b6090b1e2ae3\",\"type\":\"PolyAnnotation\"},{\"id\":\"bf7fe884-7807-492e-b360-161ac4eb8bb0\",\"type\":\"GlyphRenderer\"}],\"title\":{\"id\":\"8f382c86-4a4f-4a2c-b91e-d7f3ec74e54a\",\"type\":\"Title\"},\"tool_events\":{\"id\":\"8273fb87-1f55-4ebb-8d4d-1a1621b305a9\",\"type\":\"ToolEvents\"},\"toolbar\":{\"id\":\"39c800dc-28d7-42f2-bdb2-8b6c62563c0b\",\"type\":\"Toolbar\"},\"toolbar_location\":null,\"x_range\":{\"id\":\"83a88d65-50a9-48f3-9c3e-e96e8c1c73a2\",\"type\":\"DataRange1d\"},\"y_range\":{\"id\":\"89b6ca31-6cf7-4d04-ae6b-b9472c113efd\",\"type\":\"DataRange1d\"}},\"id\":\"486f5389-f5ef-4b34-86d0-b482e3325e8c\",\"subtype\":\"Figure\",\"type\":\"Plot\"},{\"attributes\":{\"fill_alpha\":{\"value\":0.1},\"fill_color\":{\"value\":\"#1f77b4\"},\"line_alpha\":{\"value\":0.1},\"line_color\":{\"value\":\"#1f77b4\"},\"x\":{\"field\":\"tgas_ra\"},\"y\":{\"field\":\"tgas_dec\"}},\"id\":\"c5aa839a-1484-4d34-b611-b1552e9bdc62\",\"type\":\"Circle\"},{\"attributes\":{\"callback\":null},\"id\":\"fef2da2d-41f6-49b6-83ae-2f19438230d9\",\"type\":\"DataRange1d\"},{\"attributes\":{\"plot\":null,\"text\":\"\"},\"id\":\"8f382c86-4a4f-4a2c-b91e-d7f3ec74e54a\",\"type\":\"Title\"},{\"attributes\":{\"children\":[{\"id\":\"486f5389-f5ef-4b34-86d0-b482e3325e8c\",\"subtype\":\"Figure\",\"type\":\"Plot\"},{\"id\":\"7f14dbf3-c428-4390-ab8d-432bf8c7f912\",\"subtype\":\"Figure\",\"type\":\"Plot\"}]},\"id\":\"9fb1bfae-356b-437a-b8eb-0258654b4924\",\"type\":\"Row\"},{\"attributes\":{\"children\":[{\"id\":\"9fb1bfae-356b-437a-b8eb-0258654b4924\",\"type\":\"Row\"}]},\"id\":\"4562edf6-5427-4b24-82d6-51fd8bf33277\",\"type\":\"Column\"},{\"attributes\":{\"formatter\":{\"id\":\"d6c29d57-4348-4c4e-96c9-4b0cc9708a27\",\"type\":\"BasicTickFormatter\"},\"plot\":{\"id\":\"7f14dbf3-c428-4390-ab8d-432bf8c7f912\",\"subtype\":\"Figure\",\"type\":\"Plot\"},\"ticker\":{\"id\":\"34158d31-97e4-4c8e-9f7c-8c1830ef4caf\",\"type\":\"BasicTicker\"}},\"id\":\"607398b8-31ca-4342-85a1-5b897d0c8b93\",\"type\":\"LinearAxis\"},{\"attributes\":{\"plot\":{\"id\":\"486f5389-f5ef-4b34-86d0-b482e3325e8c\",\"subtype\":\"Figure\",\"type\":\"Plot\"},\"ticker\":{\"id\":\"ce8031da-13d1-46d5-bf43-ceb876f7f655\",\"type\":\"BasicTicker\"}},\"id\":\"5ba1f855-7510-406b-8dbb-522843b75060\",\"type\":\"Grid\"},{\"attributes\":{},\"id\":\"34158d31-97e4-4c8e-9f7c-8c1830ef4caf\",\"type\":\"BasicTicker\"},{\"attributes\":{\"children\":[{\"id\":\"d9fec4e0-ec54-4f2e-ae2e-c307e81d4127\",\"type\":\"ToolbarBox\"},{\"id\":\"4562edf6-5427-4b24-82d6-51fd8bf33277\",\"type\":\"Column\"}]},\"id\":\"cb8c1042-dd74-4015-802f-d1aca67ef171\",\"type\":\"Column\"},{\"attributes\":{\"fill_color\":{\"value\":\"#1f77b4\"},\"line_color\":{\"value\":\"#1f77b4\"},\"x\":{\"field\":\"color\"},\"y\":{\"field\":\"gMag\"}},\"id\":\"9f5e7d61-6979-464d-9092-b9103e15e049\",\"type\":\"Circle\"},{\"attributes\":{\"callback\":null},\"id\":\"89b6ca31-6cf7-4d04-ae6b-b9472c113efd\",\"type\":\"DataRange1d\"},{\"attributes\":{\"callback\":null,\"overlay\":{\"id\":\"7a30d8ee-5d64-486a-98e8-b6090b1e2ae3\",\"type\":\"PolyAnnotation\"},\"plot\":{\"id\":\"486f5389-f5ef-4b34-86d0-b482e3325e8c\",\"subtype\":\"Figure\",\"type\":\"Plot\"}},\"id\":\"cdfd6faf-287f-4722-ba5c-d14315427993\",\"type\":\"LassoSelectTool\"},{\"attributes\":{},\"id\":\"69ae6c2f-f55b-4f26-ba63-79b830217285\",\"type\":\"ToolEvents\"},{\"attributes\":{\"callback\":null,\"column_names\":[\"tgas_dec\",\"gMag\",\"color\",\"tgas_ra\"],\"data\":{\"color\":{\"__ndarray__\":\"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\",\"dtype\":\"float64\",\"shape\":[1264]},\"gMag\":{\"__ndarray__\":\"PO4aiNhWBED6o94vqAkaQHxz5OmA3gtA1AuSPQKmBkCSkFeWnfYIQBy+fzQmmhNA/unTF8UREUCobOazQiYCQCQxQsb3YQxAfYZHHFymEEBwsIxMwojoP0gJkN7RCQtA1KkVGQ9+DkAwyzW++t8EQJDFf8TpzAlAbF500m0kBUA0ThQjcA0SQCzhaiWmtAlAVx3lbO/qHkCIjXoUsngGQIT6kXybAARAFiHXVkuuCUBKllfBbF8GQOlEsqf77hNArIIJIP1FD0DKEOCBWzwRQMCIYHxMLx5A6ssgUs84A0AAslrNyoO2P2jPt3mhA+U/MsIyHiBGDEBG6mOkcRMUQIF2jhlVjxFACHsS2wei/j9Ou1Lg3f0QQL1xEax63RNAQkEuGUYKEUBS8mAfgYYFQEAzi6aFUQhA7u+7W3k4AUAHqmhthKcXQEDJjmPl6LY/RxH8Xk6DFUAevSNlTxoSQPY5CSwX2ApABKKya9DbBkBkMUuJS1YVQIJJmBR+EglAQkOLHqIPEEDoGgY4eFADQA6bSKT61BRAmmzWkoSxBEC28YrEXqsOQKgXeZe13ew/9O3kmIrVBkDItbTHt88DQCQSIMUq1fQ/IGE/696XBkCqBGy3CFsWQPLr/L4rWg9ADByMkthRBUBkiDIoWWQKQBSd8cWQDxBAYKmQRli3AkB2nR5uHsARQDC2YavCMgpAuFSTGpy7A0CErTNptRIHQIav5jv8iRZAtgZLVP+CD0AWjT7GJPEPQLRAKzXt+wZAwP9WYVRyEkC4DE3miCkTQCwOQdjY1fE/zBHjEVWJEkBchGDy2TITQMCgSLXrpb0/yK6YTDNi+T/6BC8JkEQOQOC7hXW30xNAxcloIDifE0DeWc69l3ESQGbYy9ELywtAZkPcG479AECYScJlc1wDQITABU32ERNAvH2r4a9lC0CqeyQO5YURQBxwT2VVU/k/lvzeW0TBB0A0FuGtsHgCQFJWKRxp9ABASHpbf7+iB0BgkHDWtmzvP6ywbzXz7Q9AIG9aRsyZB0Cabg5vEjELQMrNW2ScRxFAtgfZIsPLFEAUDZCOgzT7P5rG1QhyxgtAJPpxaneICUD2VX36DdMPQKg/vPmtQAlA7iT9BZLXCUDUxXC2jXUVQJLKU1CXdAlAADU+fukrxr+gbXh7o9gKQBAYb7dfZfQ/fHX4ONcz9j9wM2p5lboMQLw2iTjahPs/rHCLSSoJ9T+cwIedFV0LQBQxo/BVuAdA5illSgeFEEApz3sE6UoTQGQGwN3x1RRAkDtDhJRJ+D/cyzsJlyj5P8xRKTPqYgdAdjiyWOWuC0Cyoq6DYDkFQJC0UM5gffU//ExRGBkgDUBMUdtxDWoWQDrIDk0+bgJArFs1cGPG8T8AMNI8CEsJQLwfXq69AgJAaDxbmG53BkAouqhanlUGQJKfjMUV2gJAgJLQDRMj+T/AvMAKYhvNP+6hwsSJXBZAlvlYZh4jAkDEjHX0k+kVQLy9wALYjAlABcIv5kpTEEDuwByKvb8UQEI/6hfcfxVAttGbEzEOFkBI1DXQktj9P9E2hjpJhBVAof42pTJmEUD8Ux6gcF4KQEj3BuNyDg1AemreM1OBDkDwHB1L5jn+PwQ/fhwgLQFAJNvHS/eM9j+s8y1fgVQBQLBexIy54RNAisF/fCMXFUDUKNlYeNUVQGxDF7G+dQlAKGxhitNI9j8sxWYvR5EMQPxoATE0ABJAfNUG4DAICkBQecmwr1QQQEj3zFfRL/c/2EkpQbssC0BIwQ4Cbzv2P2JBR5bJfxFA2FI8QrEMCUACuBf7ThoCQM6da63kgRBAJ818VhAEE0Ageo3WyIz7P2xH4X+ahAlAty11e+EbE0B9G/totysWQBzZdP8gQBNAzBehyr8xEkAgybcIZmLSP3zx71M8ZAhA7Fst/6ZVCUBUzmWHUpcAQFiG6PVYVRRAFJ9AAeKWAkAYclcYzKzvP0jmupWGSfM/pM+x9NeKBEA2jd/KWZEPQNSswelzcvk/6KYWk/ei+z9uHu8vLWEVQP6AMVDJRwpAYD+8NxNf5T8onVsls6kOQDjvCSXg2AdAFIZJWd4/FUDYGPNDgzYXQKAREiSSrg5AeO+RsnXqBUACVqWnYDUQQKCjaSzouw1AYFr6lymUA0Dk9jADIqsUQGCtA1qYVRxAdW8FUwpIFUCou4sUqIoHQADEnQIdpxBApl7o7ssjGEAUSOS9ICUJQEecJ8aLEBZALC40MNu3B0AYqfJd5qADQNhpiENXwQ1ARHTfi/gzD0A0RIAPVrb8P9afPzJ+Ng9A6IoF52vo+D+IToOEtb8JQN5mR656fhdA/IRc+uai9j98ViR98SIUQAAssUxWaOk/9quC4aVbEkCw/Tnzxy0SQNBe42uIyg1Ay5qK63pXEkBgCUR2FcANQFZt9PiNlxVAUEwkr+lME0B7EuNYB8gZQNuYW0PfUxVAIGbr2lES+T+4fE4B6oHpP2Dh4XqC0AlAW7Gc6YbFEUAWiuMDvSsSQGjQ4fA7dBBAnK16Vg3G+z9SvUQSkTMAQFA9O8yBiPI/pn6Jh1o5F0BvE3CMkMoQQIAIzkQuUf4/otZBeo/1BUA2YkEawlQNQKCXG+/90QxAZAcHJ6A0A0CGVDHWq8wPQDzZffp7RgxALIEh5vnQDUDwUmlKswoGQNxvZOel8QpAJNYh4rAi/j8AmwF1qWELQFCjvzSLFABAQKKOiSE3CUAaoQhX0ZIEQNDZ1jTXXwxApAa7FS8TEECoqej54GzrP8Qk3CSLCw9AHCGGVR7FCkCgi8WIRZIDQIC4p2VAou4/TNiz6Tk0FkAw7EotbhH4P7HTdMyPABFAiES/NjpZ/z9d5uPP1FcVQCw3OzT33wdA1Ja0igZ8EEACl3tCon4VQOgfGoosuxNAtsV3hF3VDUDu5C5IteIEQCLAEbTN7BVAyl/bkzgtEEDeQygZtl0CQLzzgAuZPPg/KESLpVAEBUBYbXgNnCHkP/KgM3nvhRZAOIPJm31vEECUxAVpyeIAQBD5D+uIqeQ/CKp/Ij/v/T+W3Fwe0vsHQPQ+ZMYrvABAsIbJfZpzBEBgFgDBJfwNQIImLDyMmghAtjiW7tU2B0D70SSr66AWQPww8gF/Avg/WElhUiXz5T++XcWQfecCQNrzl9Z40wFAhLz3ThlSDkAUAdfkYRERQFFw+P4BlRBAbI6JW2NLAkBg7Q5SBQLVPzjie3NND/Q/VI6/z9xgBEDgH3eSu60DQNRG/BwjAhBA1L2YsEuUA0BgYzfHCmQGQADe7b5SexlAPLY+qMqZDECbpbW3F9EUQC5PlKHf7w5AJ5lLiNq+FkCKGr5D9kURQOx8C11wT/0/xM92ZjN6CkAYKO6BX7j/P+jKuDVgzQtASA0JeiutCEAQD9JhQYHwP6DZidJC0xJAPOH5JigB9T/QZg/vXY8VQMgORC59sw1AllaNjYFHB0Dgx7AYqpQGQOh8o3vLVgpAVoeytN3tC0Cu1SuFSXETQEinMaTw7wVAPGCUOT/Z9j/IogzbHBUJQKqcrrrXFRJAlD7pEvn3AEA08J6g+80MQKZ+3Ka3VQ5AFsMIadvfE0AWVOB6IO8VQGIJ58HE5QZApACDbijpAUAKGYwca0EIQBgXzoKXcxdAEpsHZ4bUGUCVy5RRaxwRQKpCeJRZhwRAdJcxTINJBkCMGG9Y7SX8P+rKngjiZhNAiJ0yU9yo+j8QAPHPKdzrPziPmqhvYwFALC6Lpf6V/j+g9wchM1UUQD4B6I48CBJAxBiSQ/21DUCWszox/ccLQKLcqu7zHglABkyL12+kEkCQEEUq5gn4P6zpHTqFfBJA8HrzoUh4GkC4xIKsJzUPQLuyTCIKpB1AFE6TCyr4CkBQOmynV+sIQFhaNSiMBQlAeegy492GFkC4fsA5WZH2PxyNv2vw8wFAeLPMbEfIEUAmHoDiePUWQK5JoRUwZQpA1ICs6oM/8T8PiDc9sKAQQFSIL1W+8gZApMtD34szBUBChPpDh1ABQJwQrc2j3gVA6R1TWATPGkBQy65W1T8RQL5ZOVX86RNAWdGHD9nKEkBkTtQ4JEABQLiSWxxOIv8/4YWZlVFtEEDWdEKBsTMUQGJQOOeU9BVAcQvOP1VnDUAInta9/GQTQPPNKhrOoA9AZpKJ09k/A0CgBm1l8fsTQCQn+Yd0gA5AKHawacIxFEAAjc6uoDALQIK3y1CHFwpAYiRh9AJdEEBE3LBYJuACQJW4Ce9KZx1ACIps89oy7z8Ao4WUlzAZQCCu438/thtAlkhl6eI4EEC+hwr7WDgRQCi0zCCqFwVAyBaEeWiLD0CyJEVVWkYJQFQNesB+lvo/LfBaWlypEUBZ1ZGVWiEdQPrZPBxS4BZADEhODzIvCkC/l3sm0EQaQCDFQDZVEBJAONoZyrj2FEDCrzOMyFUNQPyi1hnYcg1AQCLaaZEKBEBAIdui4OMNQEVWxO+JshdApsocQIegFUB7sI/jlzcUQPl/6/QNSBRARs6o88jwDUBwkNDZ56oCQHqcwEe0QQlASAhyViokDEBpw7PvZhkQQIi4hwmIvAhAcItkQGdpCECcl/LhOBgUQBltMoz0qxtANIDESKfgC0D2SZbevyYeQNgq4B8mZBFA4eMFlmpMFUBwcaE8VC0HQAaqFQmEBhBApPV4kEXz/D8uWj7tkD8AQJCWoe6ZS/I/vjZGoMzXD0CmNdi2CvQTQELozXXr7xNAy5WGFKdpFUAdmw8zEywHQGEr4oCY3w5AMmMjh4lqFEBGmOzV2SQcQDkHhDAqVwlA3tpnW4x9DkDamY88MlkaQFbzXl+qcxVAFH/MRjipD0B0ozJSC90BQLiLaBIXsRlAbIjkazeADUDcQyvNSeAUQBxL8jMhsAZAS421qw75EkCUhgCOkU0OQBB7I+ValwpAcB01jAmN+j+u/whf15MJQIgZG/vamhBAlHZzDOP9FEDRQ/8HcQYXQNiwcfjAbAJA6CsCx3zvEkBwdJBFSvQQQCYb2dlr+xlAeGOTKIYuEEAKVXiwXVEMQHADQIws/AhAmJPKvohJFkCHrIM7ITELQITNz47OFxpAGaa36C2tFUCAQsWS+uMCQHSz3FuNbQpAO6dL/NI8G0DcnE6lMNkGQMDEWnSCNgRAAA6h/Hgetz/xQaNZqqEZQH9h9+W8vBZALrThszXyAkCiRGXUAu4VQCAdjphZvh9AWM4Up1WjHUBd0OonWjYTQAz2a9DuegpAt7J3509ZG0AYzY6WYS8cQEPI74oqFRRA0L48A/AtAUDWvlLdYLQRQHvsWzBO+BZA9lnu06BEFUDofXDLUzAUQChKuCe23ghAIUPQcJH4DkCYjSOZnSgHQHFh5ctm+BxAn9i9ZD8jFkCSB7I7e3sQQKG8MsULHRFAnbGhjD89HUAar3so+mcRQKRLIGvFfRJAgBBOMwZoFEBw8NVuuKUWQOqMv/dsjgpANEzCpd/jEUBQ0obaxkIBQAT/dlVBCRlAVUt7ZlXDFkDAaZXecWMRQMsckbR47BRAgxon62IBGUAdhdgz8WYLQIBJ+3X+AQxAOAVRBj71EEAsGzYkzIwYQLw/Tm/M6AVAMGeBEn+MDEBYIFVhpWYTQBo3mchT2xNAOCVUUCIo8z9MJ5uVRFwYQMz97c53PAhAPrVT3IXhBEBANh65FpsVQMLOYgZCQwVAJFGfW+K4DUCiU56rF/YRQGl4zJQ9oxBApu0n1ffUCECsQPAY4VL3P3ZvcPEY4gVAyYpaKuL0EkABDfHpJ+YSQGxdsWPpsghAnHxOKXABAUA0WTOFWWAKQJAJXjhrugNASHHpD/P6B0C2kJJsaMIVQFj/yXLqnv8/gCCCNaipsr+EcZ0my7gEQLYKi+PzFgBABMhc/oTBFEDNp+YMdlMSQBr+LkBmDxNAk/jFbNAGEkBOwIc8mGsQQDyrQhafqwlAQDJtyauyFEBkzfMWPioEQEiHJLjgqOs/mGGrWNYPBkAMV3k9bpwUQBsOygKBABFAIv5M/ri4BkAaU8MqMc0TQGiW6seOCABAe6M4e1f8HkCAuRf+OUbuP46PPhlcGgdAEpmATrXuFECQScSa3O/0PyTmgNt6hAhAPlLWZv0rEUB0WLEh8TQKQEgzC4Nv0wxAJJLXP8D6+j+wYXFR60kGQOj4WEiyZAtAWiJaC7iuFkDCzRRrMT0IQFi2jYoBVwNACF6ixfBVE0Aqq7T5lDUMQAR75AegWgtAXJBFlPXMEkBEA28mHWYHQCDmHcQ4J90/BHQp4fMf9z/eFGTkPxwBQNq/Myi2jRVAsFCgFHog/D8vaRI6oxoKQAohlNKXPQNAgPF0jH7KFkCkt93t4iP5P07YDXz4FRZAgu34DW6LEEAOLLKOLBcSQJ8H4okd7RFAqK0XnWya/D9UeBf5n9n6P1qXJteE6QNAgM3wN9KS7z+8Gis2kNYMQOZEZZBV3RJA/SqeceUvEkA8MgESaRsKQIj5G7uUUgxA0D7tsnWcDUDGB6pLYToNQL4i+fvsiwZAZCN6fThKE0A+6EtMExcCQMapGa1uqQxAd2OIUTEeEECyHV0PuqEKQHS6CORmRQpAfXMlzkikEkAME2OopWrxP1fn+9XAgxJAUybS4lTDEEA0jO4DcjMVQHhe4XZyEQNA6CoOWqzWCkCIoIH3LGMEQOjPiJbFAg1AdL1WY5U79j/OyDFw94USQNp0fBMSVBZAkuRGcNBzEkC85P/0utgAQLCfsoT49Q1AjdAY4pmfF0DK+bxSut8KQF1mwl3EihJArWcuMXKXFkD7drFBOnQUQLqKhq4GuhNAlJW0L/c7EEDkJRtPmQwUQNAy/ljaFAxAUKgwhUeyC0CkAsjZOFUVQHFQF6oCwhJAtOk77GNJA0Dm+QJmAagJQD6N2tyq2hdA0LXrU/O7EUBwmQuz95T7P8QBGn6znwRAoFLipaGEAUA0vDsmkxYSQDiBbWSC8vw/bpaHy6zFFUDwuWlfMaYIQCNUD3/YMBZAZBQPcFZ8BUCW1pbjX0wMQKILfNc7mxZAUsMb/mUqB0AKZbmii2MFQPX4wqKqSBNAUmcEiT/kB0D4kG5g8IYUQCJOyQ7ZyBdACO2FmwWREUALYn8bTFIZQNyOnAS75ABA+B0MG9TICkBoqPYxLbX4P6Q2VSPB5BRA6iZ41cxHB0BQ2RdQLx8LQL52pWEdHRJAIKZsOJjqD0CarRSQfOIDQIZbu0whrRlAAuFwrlF9EUCQalr6qosIQO9kFbU0iBRAEMm9SXQB1z9T9nDf8e8TQNm1FqgFYhxAQLzedWST9D8Y3LQ9OBwVQO7083pzZBlASM+44zUMGUDwRx5VSKnVv3rjG6KIxgxAli6AzZXMEkBkibDe2mcKQEJ3YwulMhRA7HqGmodtF0A+2Ie+UaUEQOCRPqHGvuU/FtLMBMgDEkBUzYOBAysZQKsrK1lynxpAdO82SliqBECEw+4/cwnyPyiKoEqeRAJASLCGsI+V/j9wUGnigecVQAGhJkzKehRARKm3WQr99D98xrrGofMIQEhbgOae5Ok/xABPETM6BUDcLjofsngDQIxFCXO51AxA9BVxlMin8z8ASuRfwc3tPzS3A7hmUfw/FiA86XhvE0DwKTY9nO/qPxx34WnGm/M/fCQhY47u/z9ApFkvEETUPyBAgsaYmxNAJGVQQre/EUDLMqPu0k0WQH5p48YxYxNAEgN/uGoIGUDieFgWqowJQHycLLoyhg5AlH5uOBKhCkDAa0wnNVENQGb+DqufVRVACCG/dWYj/j9geILU7ogUQCpMGkcZJRJAA5bKMjQVFECBzioRk7QUQACuKBKm67C/NPuNbLsiE0AUexUxAnP9P7zKTYcJkwpAUCUgi6Yi+z/Y5sfB9eHqP9CCaxTQzvY/lWp/AxzQHEDYkv1/ciUCQIwGRCyFpP8/xsdiIy9GAEAYi5H2YGcSQOx01laZ9Ps/2IYhkRsA7T+kjOWavaz0PwxuMZYUJBJA8O8HAoRz4T/soma4p/UCQCyYHQMQMwpApPkfis5xEEC8N8TBHl0JQHugLg94ShhAAr3++Fd5FkBMUsxWZEIVQI6Gvefp9AhAkFC65V2kDEAa8psXnKgWQCAmoa9ANAtAdDH+rYTmA0AgKydxKxsIQKxkc/wazRVARBFK3piKCkCysZZljH0NQFQSkPoKVwtA3lfJ2eduEUCFUmtavVsTQDCwJzBEtgJAYjXpStgHGEA2+hcbhHgTQPDy9V3k6RZA4IsXHb0J/T85F5keW4oSQAxJ5Taz/wRAFDZb01WuFkCAmb1a3EoIQCA4oLMv5ApA+DiE0evn/T9IQznrUtj/P8SolpLgBhFAngyb13ndEED43f73nekZQDBJBZafwvs/GCKNrb3u/D/oOYIHDi0RQPxW+tSImAlAjz4sBMTMEUCEYB5rz7cMQBBBvJS9N/o/9Pvg5hwBGEA2018PGnYbQMAt5KfSV/c/MENGeHrO3j8Ma/JjAvIWQDArMJWG/xBA4IKtiEMq5T+iLZq+fzAAQIBzTFLoL8c/PmbVUM9SCEDMfaNQsa0NQMQWbev1ERRA+ALHXYR0E0C2dLSytNYDQPUUxBBy+xNAmt1aQq5fDUD0KWLddUsPQFyPqsUiRhFAHpP9vTINCkAxiIAeiQQTQOjPh2F/+f8/wHMdKxGBAUAMeaOuDUAMQHFa61NmTxNAGxNxw7k3EEDUOeGC4V4PQKyw0A6QMglAUCIPU0Hu+j9Ug75CsQ38Pz610jB49xhAGOjbbdZWA0D0FQTI9c4WQJLjvJzh8hNAWmGPTuPPGECWA0auCeIVQBj3n0/TuxdAMmdFpGFDEEBg6B2GqNb/P47glrA2mxZAhhbx74HCBEC3MQN/okwQQDwjN/T4RAtAeFZykjCLB0Ba/9KIpTIXQI40RoidSBFAPCjXWdNOBEBwuvN4yWzdPxwsUj+cBApAPdGNeYUkFECH08LeCwkUQHyleRx51RlAjrFZDphTFkA0qSdkB8sMQB54mwdylhRA/C1yYCJtBkBMcy/tOgr/PyRFmi+JDANA6GOtWgoiDEA/UAux9k4ZQBgUJSj5KxZAof6/tXOxFUCcPgTKkZIGQDgocDAChRFA2x5mrIyyEECc92jRkKAVQD70Z8XB+RBAvLaw3mO0E0AgHdtdlcMPQMY04WSpng1AxJnvBY2gCEAwYB71HEv/P678/S/12w1AoUbuEFelEECAKu/0kv+4P/gdgTb83gdAt6s+FimPEkBcS86kQ04AQOTqnJJpIApAuPbrK348D0A0J6AZUk4DQNyWJqLzxwJAtR/vbWS0EUCkXmEy/BcLQOi/rrvnqf8/CBkHzAGH6D92H+PEkekOQIoIas6y1wpAAMOZCbrq9T8EHwmWhXEHQDg2tWMr9wpApL5ZiC5h8z+4THb/obMEQHhIMmb2hRBA8WS2dAjYE0DcGqQw08wKQFya0NBpDw9AxDqYVKmaDkA0G9aNCEcJQMAYVhlWYgVALIQ2muL4C0CEKYbvQOD1P5KmTRxIqBZAHH4Nx6suDEDmmP8apigLQL1JGvI5JRVAOLtBFhRDCkB+yk7mqeMLQAiviKXaag9AVnKmPnwREUBs14bXHNYUQOgLGWy8hfo/ABYF/abljL809asnVJr/P4ht4Me60gFAcKL5cPd+E0A4lP6zoBEPQFiZQUEaDgdAyDGopHLwAEDsbQtz5b0VQBgjUaIo0QFAwoJw1zpHBkBk+P0nOtsFQNh0RyGVeuc/MA7ua0j5EEAE4Fv7e3X/P1ZdiZMUVwVAch/9U8tZB0BmAsM3uE0aQD4698RfggVAUBqxYApTBUA0atgqQzYTQNatfnEqBABACMjzwLHgDUB+iPTos9kRQKxSi/NqJAdAlAkjm91kDUCYxqF4h2UQQED83Ikgkv8/5Ok9+DJyCEBc2p5dxRT3P0gDXi1i6/U/omGr4tcJDkCMNb/PAmL5P9RZNV8/uv4/4KTZ1+sK0z9kBmcJf9sKQMD1u7FcoPM/VJDNRFVDBEBU8vQ/JA8DQLzFdVMbbvQ/ACoCbr9Is7+Q/vx9Wj/QvyAJCwYT2Ng/Hnl9O6/7BUDglAI7DdrGP5DelXDnAQNAhGMNlHZXAkCy+jxFkNIKQAgZNuIosAtAHuvMWWr5FEBMp6pCnnMOQFgG4ppOj/o/oHS1AB8u1T9cGs5CNbUBQKCMmYNz6QVA0ggJQV04DUBUAZ9DMV4BQODkmbwJ7AVA/owztTILDEDKPYtv8OgTQPaKbODN5gpAeJ89+P7HC0Ce0XEqT68GQBC12MntgAlAaGVSy88yAEDIofOiQcoOQMSDpzM9kvw/7FvRqPWB9j9a2eaDQZQQQA6HrxodCgRArJ1BFal3DkCItU24c6wLQKbvYoq6HgBAfg+nm+oYEEC33THtm+0UQLjok2xUbv0/mC9hnADw7D/zaIKRR5gQQOb7OE0oAhZABzP8MFMuDUBQNg3X9/YYQGSxV0gF4AtA5KfJZv89/T9IsAsV5uUUQHiWiyluQxVAiNMgppQn8z+Ash5rw7Olv6LEkI4HuxFA/NXlwRSG8D/9S8fqEp0aQJhvpxwChw1AdUv7Vb1xGUDMYmKFfMILQIyGPiFUTf0/MIhQJiGZB0BM91tfScIVQFqg4RSUWQFAQ8HYzfZWGUCwk3ZfOcMGQOz6txTqDgFAGO5cSMyGCkDYePdVP8cTQJZSQjrjgwFA6AkeAe/D6D+wtJcFHsQdQCy+uZz4NRJAHHFqdMzNCUCcC04ckUcLQHJPSV1wlRlA8tAhajeREUDeb1R2B9UGQPR8jR7KgglAiOMhLJGvA0A6kDgFkN8GQMTGSytevwBAoI5+uzXWBkCc4bKYI0sIQFCJJjA/0/c/9JQRp3hU9z8wW6ktSwcDQKXNbllQsBRA6ER77bq4EEBqkAWtw3wAQODq1va31gJACPVY5KeE/j9lnRPfXYkQQALHXIYrVwtAYhVukDohF0AMoknawIITQBm/oVxOGx1AZPUVQMNUC0BmQ0E/HVwGQLg5A7sXqOI/GEAyvY+PDUDceTNiI64SQIh7dG9aHRFAYyesCxUeG0Ay1e9gXrIGQLy/nQwdOAFA9iEr7LXJGUAkIORRxen3P9ocE5SuuANABo4zyFS+AEAaXaMIaKoRQFz6ANOyMBZAWFDUbh//5T9Aq0n9SPX4PwST/BfZ4wdAqd5R99b9EkBfpmF++UgSQNItp73gQRFAeg3X+Q2WCUB0dTvTmGgRQHnYkGk51xJAOMWvZGo6BEBsOigR8UENQDCfvHKEiw5AwKpLEp3+AkDsaJewGB4MQKQfVdplVRlAHvWdbbxNGkBxtAUPw4ETQDdAAVAE6xhACCpKZCOFDUAUVnHsX24JQFx5JPaL9AtATg0FAkw8F0Aze90v7/ARQB5+CSS8gQFAAvuTfoDQCkCNAoo4KUcQQDZR2FS7DRhAnFYX1/LF+z+GR15oM6gUQCIxELDpyxRAVB3U5OVDB0AelupKHLcUQPygYPjMiQ1AZ2xWOR7iGUBXE2EwCUIdQHyQy/6PkRRAzPOs/AOGDEAA1n/6Fl0RQOA4tYUqSdk/zFmlkYkYCECf1SERAzgUQF7BtIfN/hZAoFjugfTeGUAIGfNwjjAPQEcgLTr0PBJAvNpoFueE+T88gHABnV8TQDAxj+pemApArLbHQkwhDUAalgmBtR0VQBzqHklneBRAkAgEebZU+D+YNKU2fEEMQOa/NZ3sohBAqAGGYN/SEEBAIASptjgGQCPP1Ms96hJARN6LefIHFUBQd4i9aq0TQOCX34cWtsO/GG58nTbB+D/mE3q4MgYOQFtWOOulZB5AqCx2gpskE0CcjmANGQ8JQFjQ6w3prBJAwGIKovgb9z94eYwayNrxPy57MkiHmBFAhJ3KtPwh8z+aZYl4eQANQOr/bkEJAxhAbDRfYPWSA0BpQKco1WURQBTl9gLqExFALbve3fsmEECk6+7JSKryP3CYwKa1Kv4/cKDNhXTpDUD0Hz6FRvoLQCX7gR5W6RBAVNpgn6o/EUDwbvGDAaABQIgHPJiqgg5AoOeKM3I31j/9zjXoNhkbQAgRuPJkjPo/eLfDBelO/j8cwSASXt/5P1TP68e7+QJAvUDKkSuKEkCQaHowlE4VQPkgftzhxBJAwI5jiEWdCUBgcxVUjOEFQEJgZm88pwlApAaMbkiBCkBQw/w9bEH+P1x4XtxDOwtA2hzKGsEXAEDuoN6c6hIIQKCP5OX2Qfs/YNUOJ4eMEED0fs4Bc8QdQBQWFDocLxJAri5i8VpLAUA6jJ26KtAIQASFMaXQwhBAKJfjUyjyCEBIVv4LfE0QQHD1BR8PaQxAlHZD/9McCkDc/uQ0mygIQJTS9ozGbvo/8P31mdodDUCM2Evy/CsFQNBEOabDpBFAWNaoiFb5E0CUt4Cm6KwAQPwQG75Y+AJAahvf8YysF0Bmj/rsQfcNQP6Ti6SC+BVACFi+j/hXC0C4QrFj6Wv/P8zg9hZnfBZA7DLExHWSCEAyWqvHnpEUQNRIgEq+8wtAeryWr37zEEC4nMzzO2P+P6q/KxLxShNAMGm15BR/E0BUA5k7JwQFQIR5bcinYw9ATDX9vlNUBEBGwqTj40sWQMwKEukvaAZAjLyieBlo8D+kq2B2meYOQARJCQpMwwVAKLwY2+C6E0A6mK0B3ooEQF4jEkslCQlAHOyc9YHUDECKe14PmJoBQI50ub5TCRFApHLucvtuBUAkzHApTmEAQCL1B/CYsRNAsNtz4uHn+z/oLKQegLsIQEwjGxRBxxFAStmWLMD9BEDIiHE7BCIUQDwZopOzWQlAEEBI1z3AAUA0iIICYEf0P3zzRhF66w5AaC+q8oU5+z8UuSJOpMkEQFvr98XbfxNAFCqkSj60EEClGJ9czqgWQCQUKsVzIQ1AcH3mxkpuEkC8fO5NvDwMQFpT9U1jJwtAtLHvmQeg/j+owoFooxURQJDtFJ/SWwVAlGZ/La7dF0A0CvvOPsUFQDBZAXyAlwpAPPpkCOPsDkD6LbunpRMQQDhwg3IMKvg/uFXPP0tKE0CYLbWQFmMMQPl07Sie1RRAfI4yP3lWCkAA9iiG4QETQBA/1LRVNtI/fmLNS8I8FkA0cpZN/vEQQJ6AoyQCIAtAPk7NdhHYE0D7+bf9xN8YQMhC2KsHHB9AsKjoV1JyBkC4DIANiA0WQGTeAOEUEgxAII1DvfJ/+T+sz61jdRkTQJolEGJSgwFAZiBTdgTcAkCoqYYyoqP4P8w44b9mXARAzsJ5KT8NFkALJeHjaNAWQAi46W9INAZAHI8hP86pBUBkUfurDb8BQCyXCYdcRQZARM6OP5mhC0C2eSUfGYYVQLymj/hItAhAwHYN5E2cEEBQBmjNxN8MQLo4h4ORixNAzAcKcyUADkC8mJYsa7QJQET74eG/YA9ASoLGfF2uFEBDVX/WrY8XQCANTtBAEAlANrwbs0fkGEA=\",\"dtype\":\"float64\",\"shape\":[1264]},\"tgas_dec\":{\"__ndarray__\":\"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\",\"dtype\":\"float64\",\"shape\":[1264]},\"tgas_ra\":{\"__ndarray__\":\"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\",\"dtype\":\"float64\",\"shape\":[1264]}}},\"id\":\"f71a7231-e215-47a0-807c-32bab30778b1\",\"type\":\"ColumnDataSource\"},{\"attributes\":{\"callback\":null},\"id\":\"524a203f-3350-426f-b12b-61002f4ba79f\",\"type\":\"DataRange1d\"},{\"attributes\":{\"dimension\":1,\"plot\":{\"id\":\"486f5389-f5ef-4b34-86d0-b482e3325e8c\",\"subtype\":\"Figure\",\"type\":\"Plot\"},\"ticker\":{\"id\":\"cfbd2f19-c82b-433c-b1ad-2488629b34e1\",\"type\":\"BasicTicker\"}},\"id\":\"af00b064-af72-4441-b7d0-83f2f556b9be\",\"type\":\"Grid\"},{\"attributes\":{},\"id\":\"8273fb87-1f55-4ebb-8d4d-1a1621b305a9\",\"type\":\"ToolEvents\"},{\"attributes\":{},\"id\":\"26a83762-7d46-4976-a2eb-2da2a4fd6eda\",\"type\":\"BasicTickFormatter\"},{\"attributes\":{\"fill_alpha\":{\"value\":0.5},\"fill_color\":{\"value\":\"lightgrey\"},\"level\":\"overlay\",\"line_alpha\":{\"value\":1.0},\"line_color\":{\"value\":\"black\"},\"line_dash\":[4,4],\"line_width\":{\"value\":2},\"plot\":null,\"xs_units\":\"screen\",\"ys_units\":\"screen\"},\"id\":\"29444a18-081a-433c-95fe-5db9929d20b4\",\"type\":\"PolyAnnotation\"},{\"attributes\":{\"dimension\":1,\"plot\":{\"id\":\"7f14dbf3-c428-4390-ab8d-432bf8c7f912\",\"subtype\":\"Figure\",\"type\":\"Plot\"},\"ticker\":{\"id\":\"34158d31-97e4-4c8e-9f7c-8c1830ef4caf\",\"type\":\"BasicTicker\"}},\"id\":\"dd6243be-ffbe-40b1-b297-d11e68306de2\",\"type\":\"Grid\"},{\"attributes\":{\"fill_alpha\":{\"value\":0.5},\"fill_color\":{\"value\":\"lightgrey\"},\"level\":\"overlay\",\"line_alpha\":{\"value\":1.0},\"line_color\":{\"value\":\"black\"},\"line_dash\":[4,4],\"line_width\":{\"value\":2},\"plot\":null,\"xs_units\":\"screen\",\"ys_units\":\"screen\"},\"id\":\"7a30d8ee-5d64-486a-98e8-b6090b1e2ae3\",\"type\":\"PolyAnnotation\"},{\"attributes\":{\"active_drag\":\"auto\",\"active_scroll\":\"auto\",\"active_tap\":\"auto\",\"tools\":[{\"id\":\"1d636516-9190-41cb-9fdb-f9a7eca5dc73\",\"type\":\"BoxSelectTool\"},{\"id\":\"704bfe33-f273-4d97-ac6d-5d0cddd6fcbe\",\"type\":\"LassoSelectTool\"}]},\"id\":\"5b5e7443-93e4-4dd8-88cd-50d934c53b14\",\"type\":\"Toolbar\"},{\"attributes\":{},\"id\":\"a6572682-57ae-436e-8ade-d193a7572325\",\"type\":\"BasicTickFormatter\"},{\"attributes\":{},\"id\":\"cfbd2f19-c82b-433c-b1ad-2488629b34e1\",\"type\":\"BasicTicker\"},{\"attributes\":{\"below\":[{\"id\":\"8250c187-5638-4c7f-8725-f948cdbd6f69\",\"type\":\"LinearAxis\"}],\"left\":[{\"id\":\"607398b8-31ca-4342-85a1-5b897d0c8b93\",\"type\":\"LinearAxis\"}],\"plot_height\":400,\"plot_width\":400,\"renderers\":[{\"id\":\"8250c187-5638-4c7f-8725-f948cdbd6f69\",\"type\":\"LinearAxis\"},{\"id\":\"4ffa2556-0dda-4aa3-bace-d4e2649c4b40\",\"type\":\"Grid\"},{\"id\":\"607398b8-31ca-4342-85a1-5b897d0c8b93\",\"type\":\"LinearAxis\"},{\"id\":\"dd6243be-ffbe-40b1-b297-d11e68306de2\",\"type\":\"Grid\"},{\"id\":\"b564d24d-4b9f-41d6-aceb-2c52740402cf\",\"type\":\"BoxAnnotation\"},{\"id\":\"29444a18-081a-433c-95fe-5db9929d20b4\",\"type\":\"PolyAnnotation\"},{\"id\":\"84b09bda-515d-4b19-ac1e-1c4368f56d35\",\"type\":\"GlyphRenderer\"}],\"title\":{\"id\":\"88cef64e-1867-4a9a-8946-6870497241c6\",\"type\":\"Title\"},\"tool_events\":{\"id\":\"69ae6c2f-f55b-4f26-ba63-79b830217285\",\"type\":\"ToolEvents\"},\"toolbar\":{\"id\":\"5b5e7443-93e4-4dd8-88cd-50d934c53b14\",\"type\":\"Toolbar\"},\"toolbar_location\":null,\"x_range\":{\"id\":\"524a203f-3350-426f-b12b-61002f4ba79f\",\"type\":\"DataRange1d\"},\"y_range\":{\"id\":\"fef2da2d-41f6-49b6-83ae-2f19438230d9\",\"type\":\"DataRange1d\"}},\"id\":\"7f14dbf3-c428-4390-ab8d-432bf8c7f912\",\"subtype\":\"Figure\",\"type\":\"Plot\"},{\"attributes\":{\"callback\":null},\"id\":\"83a88d65-50a9-48f3-9c3e-e96e8c1c73a2\",\"type\":\"DataRange1d\"},{\"attributes\":{\"formatter\":{\"id\":\"a6572682-57ae-436e-8ade-d193a7572325\",\"type\":\"BasicTickFormatter\"},\"plot\":{\"id\":\"7f14dbf3-c428-4390-ab8d-432bf8c7f912\",\"subtype\":\"Figure\",\"type\":\"Plot\"},\"ticker\":{\"id\":\"abcc4b80-4e51-4767-94dc-2b039f61ce8b\",\"type\":\"BasicTicker\"}},\"id\":\"8250c187-5638-4c7f-8725-f948cdbd6f69\",\"type\":\"LinearAxis\"},{\"attributes\":{\"formatter\":{\"id\":\"26a83762-7d46-4976-a2eb-2da2a4fd6eda\",\"type\":\"BasicTickFormatter\"},\"plot\":{\"id\":\"486f5389-f5ef-4b34-86d0-b482e3325e8c\",\"subtype\":\"Figure\",\"type\":\"Plot\"},\"ticker\":{\"id\":\"ce8031da-13d1-46d5-bf43-ceb876f7f655\",\"type\":\"BasicTicker\"}},\"id\":\"f7b8f211-82ea-48cf-a4e2-880df90e54fa\",\"type\":\"LinearAxis\"},{\"attributes\":{\"formatter\":{\"id\":\"0ae5e84b-7a1f-49b6-bd4a-85f784b1526e\",\"type\":\"BasicTickFormatter\"},\"plot\":{\"id\":\"486f5389-f5ef-4b34-86d0-b482e3325e8c\",\"subtype\":\"Figure\",\"type\":\"Plot\"},\"ticker\":{\"id\":\"cfbd2f19-c82b-433c-b1ad-2488629b34e1\",\"type\":\"BasicTicker\"}},\"id\":\"4ab6fe93-284e-4b5c-ad84-e63553e7ffa9\",\"type\":\"LinearAxis\"},{\"attributes\":{\"fill_color\":{\"value\":\"#1f77b4\"},\"line_color\":{\"value\":\"#1f77b4\"},\"x\":{\"field\":\"tgas_ra\"},\"y\":{\"field\":\"tgas_dec\"}},\"id\":\"48c67790-1d98-43f2-ab81-c60323776b20\",\"type\":\"Circle\"},{\"attributes\":{},\"id\":\"d6c29d57-4348-4c4e-96c9-4b0cc9708a27\",\"type\":\"BasicTickFormatter\"},{\"attributes\":{\"callback\":null,\"overlay\":{\"id\":\"b564d24d-4b9f-41d6-aceb-2c52740402cf\",\"type\":\"BoxAnnotation\"},\"plot\":{\"id\":\"7f14dbf3-c428-4390-ab8d-432bf8c7f912\",\"subtype\":\"Figure\",\"type\":\"Plot\"},\"renderers\":[{\"id\":\"84b09bda-515d-4b19-ac1e-1c4368f56d35\",\"type\":\"GlyphRenderer\"}]},\"id\":\"1d636516-9190-41cb-9fdb-f9a7eca5dc73\",\"type\":\"BoxSelectTool\"},{\"attributes\":{\"callback\":null,\"overlay\":{\"id\":\"29444a18-081a-433c-95fe-5db9929d20b4\",\"type\":\"PolyAnnotation\"},\"plot\":{\"id\":\"7f14dbf3-c428-4390-ab8d-432bf8c7f912\",\"subtype\":\"Figure\",\"type\":\"Plot\"}},\"id\":\"704bfe33-f273-4d97-ac6d-5d0cddd6fcbe\",\"type\":\"LassoSelectTool\"},{\"attributes\":{\"active_drag\":\"auto\",\"active_scroll\":\"auto\",\"active_tap\":\"auto\",\"tools\":[{\"id\":\"09c337a3-1a7d-4dd4-99cd-4534226c2fce\",\"type\":\"BoxSelectTool\"},{\"id\":\"cdfd6faf-287f-4722-ba5c-d14315427993\",\"type\":\"LassoSelectTool\"}]},\"id\":\"39c800dc-28d7-42f2-bdb2-8b6c62563c0b\",\"type\":\"Toolbar\"},{\"attributes\":{\"sizing_mode\":\"scale_width\",\"toolbar_location\":\"above\",\"tools\":[{\"id\":\"09c337a3-1a7d-4dd4-99cd-4534226c2fce\",\"type\":\"BoxSelectTool\"},{\"id\":\"cdfd6faf-287f-4722-ba5c-d14315427993\",\"type\":\"LassoSelectTool\"},{\"id\":\"1d636516-9190-41cb-9fdb-f9a7eca5dc73\",\"type\":\"BoxSelectTool\"},{\"id\":\"704bfe33-f273-4d97-ac6d-5d0cddd6fcbe\",\"type\":\"LassoSelectTool\"}]},\"id\":\"d9fec4e0-ec54-4f2e-ae2e-c307e81d4127\",\"type\":\"ToolbarBox\"},{\"attributes\":{},\"id\":\"abcc4b80-4e51-4767-94dc-2b039f61ce8b\",\"type\":\"BasicTicker\"},{\"attributes\":{\"fill_alpha\":{\"value\":0.1},\"fill_color\":{\"value\":\"#1f77b4\"},\"line_alpha\":{\"value\":0.1},\"line_color\":{\"value\":\"#1f77b4\"},\"x\":{\"field\":\"color\"},\"y\":{\"field\":\"gMag\"}},\"id\":\"c016e4bc-dc27-4c81-bd7a-d200f95aa26c\",\"type\":\"Circle\"},{\"attributes\":{\"data_source\":{\"id\":\"f71a7231-e215-47a0-807c-32bab30778b1\",\"type\":\"ColumnDataSource\"},\"glyph\":{\"id\":\"48c67790-1d98-43f2-ab81-c60323776b20\",\"type\":\"Circle\"},\"hover_glyph\":null,\"nonselection_glyph\":{\"id\":\"c5aa839a-1484-4d34-b611-b1552e9bdc62\",\"type\":\"Circle\"},\"selection_glyph\":null},\"id\":\"bf7fe884-7807-492e-b360-161ac4eb8bb0\",\"type\":\"GlyphRenderer\"},{\"attributes\":{\"plot\":null,\"text\":\"\"},\"id\":\"88cef64e-1867-4a9a-8946-6870497241c6\",\"type\":\"Title\"}],\"root_ids\":[\"cb8c1042-dd74-4015-802f-d1aca67ef171\"]},\"title\":\"Bokeh Application\",\"version\":\"0.12.4\"}};\n",
       "            var render_items = [{\"docid\":\"931635de-b62d-43be-9378-2e2f5dfbc944\",\"elementid\":\"5458c169-8b3e-4834-8a2f-762092ea0f42\",\"modelid\":\"cb8c1042-dd74-4015-802f-d1aca67ef171\"}];\n",
       "            \n",
       "            Bokeh.embed.embed_items(docs_json, render_items);\n",
       "          };\n",
       "          if (document.readyState != \"loading\") fn();\n",
       "          else document.addEventListener(\"DOMContentLoaded\", fn);\n",
       "        })();\n",
       "      },\n",
       "      function(Bokeh) {\n",
       "      }\n",
       "    ];\n",
       "  \n",
       "    function run_inline_js() {\n",
       "      \n",
       "      if ((window.Bokeh !== undefined) || (force === true)) {\n",
       "        for (var i = 0; i < inline_js.length; i++) {\n",
       "          inline_js[i](window.Bokeh);\n",
       "        }if (force === true) {\n",
       "          display_loaded();\n",
       "        }} else if (Date.now() < window._bokeh_timeout) {\n",
       "        setTimeout(run_inline_js, 100);\n",
       "      } else if (!window._bokeh_failed_load) {\n",
       "        console.log(\"Bokeh: BokehJS failed to load within specified timeout.\");\n",
       "        window._bokeh_failed_load = true;\n",
       "      } else if (force !== true) {\n",
       "        var cell = $(document.getElementById(\"5458c169-8b3e-4834-8a2f-762092ea0f42\")).parents('.cell').data().cell;\n",
       "        cell.output_area.append_execute_result(NB_LOAD_WARNING)\n",
       "      }\n",
       "  \n",
       "    }\n",
       "  \n",
       "    if (window._bokeh_is_loading === 0) {\n",
       "      console.log(\"Bokeh: BokehJS loaded, going straight to plotting\");\n",
       "      run_inline_js();\n",
       "    } else {\n",
       "      load_libs(js_urls, function() {\n",
       "        console.log(\"Bokeh: BokehJS plotting callback run at\", now());\n",
       "        run_inline_js();\n",
       "      });\n",
       "    }\n",
       "  }(this));\n",
       "</script>"
      ]
     },
     "metadata": {},
     "output_type": "display_data"
    }
   ],
   "source": [
    "# output_file(\"brushing.html\")\n",
    "# TOOLS = \"pan,wheel_zoom,box_zoom,reset,save,box_select,lasso_select\"\n",
    "TOOLS = \"box_select,lasso_select\"\n",
    "\n",
    "p = figure(width=400, height=400, tools=TOOLS)\n",
    "p.circle('tgas_ra', 'tgas_dec', source=source)#, fill_color=colors)\n",
    "\n",
    "cmd = figure(width=400, height=400,# x_range=(-2,4), y_range=(10,-2),\n",
    "             tools=TOOLS)\n",
    "cmd.circle('color', 'gMag', source=source)\n",
    "\n",
    "grid = gridplot([[p, cmd]])\n",
    "\n",
    "show(grid)"
   ]
  },
  {
   "cell_type": "code",
   "execution_count": 23,
   "metadata": {
    "collapsed": false
   },
   "outputs": [
    {
     "name": "stderr",
     "output_type": "stream",
     "text": [
      "/Users/semyeong/anaconda2/envs/gwb/lib/python3.5/site-packages/bokeh/models/sources.py:81: BokehUserWarning: ColumnDataSource's columns must be of the same length\n",
      "  lambda: warnings.warn(\"ColumnDataSource's columns must be of the same length\", BokehUserWarning))\n",
      "/Users/semyeong/anaconda2/envs/gwb/lib/python3.5/site-packages/bokeh/models/sources.py:81: BokehUserWarning: ColumnDataSource's columns must be of the same length\n",
      "  lambda: warnings.warn(\"ColumnDataSource's columns must be of the same length\", BokehUserWarning))\n",
      "/Users/semyeong/anaconda2/envs/gwb/lib/python3.5/site-packages/bokeh/models/sources.py:81: BokehUserWarning: ColumnDataSource's columns must be of the same length\n",
      "  lambda: warnings.warn(\"ColumnDataSource's columns must be of the same length\", BokehUserWarning))\n"
     ]
    },
    {
     "data": {
      "text/html": [
       "\n",
       "\n",
       "    <div class=\"bk-root\">\n",
       "        <div class=\"bk-plotdiv\" id=\"507d2109-91dc-4d83-8fb0-7ba00f262cf1\"></div>\n",
       "    </div>\n",
       "<script type=\"text/javascript\">\n",
       "  \n",
       "  (function(global) {\n",
       "    function now() {\n",
       "      return new Date();\n",
       "    }\n",
       "  \n",
       "    var force = false;\n",
       "  \n",
       "    if (typeof (window._bokeh_onload_callbacks) === \"undefined\" || force === true) {\n",
       "      window._bokeh_onload_callbacks = [];\n",
       "      window._bokeh_is_loading = undefined;\n",
       "    }\n",
       "  \n",
       "  \n",
       "    \n",
       "    if (typeof (window._bokeh_timeout) === \"undefined\" || force === true) {\n",
       "      window._bokeh_timeout = Date.now() + 0;\n",
       "      window._bokeh_failed_load = false;\n",
       "    }\n",
       "  \n",
       "    var NB_LOAD_WARNING = {'data': {'text/html':\n",
       "       \"<div style='background-color: #fdd'>\\n\"+\n",
       "       \"<p>\\n\"+\n",
       "       \"BokehJS does not appear to have successfully loaded. If loading BokehJS from CDN, this \\n\"+\n",
       "       \"may be due to a slow or bad network connection. Possible fixes:\\n\"+\n",
       "       \"</p>\\n\"+\n",
       "       \"<ul>\\n\"+\n",
       "       \"<li>re-rerun `output_notebook()` to attempt to load from CDN again, or</li>\\n\"+\n",
       "       \"<li>use INLINE resources instead, as so:</li>\\n\"+\n",
       "       \"</ul>\\n\"+\n",
       "       \"<code>\\n\"+\n",
       "       \"from bokeh.resources import INLINE\\n\"+\n",
       "       \"output_notebook(resources=INLINE)\\n\"+\n",
       "       \"</code>\\n\"+\n",
       "       \"</div>\"}};\n",
       "  \n",
       "    function display_loaded() {\n",
       "      if (window.Bokeh !== undefined) {\n",
       "        document.getElementById(\"507d2109-91dc-4d83-8fb0-7ba00f262cf1\").textContent = \"BokehJS successfully loaded.\";\n",
       "      } else if (Date.now() < window._bokeh_timeout) {\n",
       "        setTimeout(display_loaded, 100)\n",
       "      }\n",
       "    }\n",
       "  \n",
       "    function run_callbacks() {\n",
       "      window._bokeh_onload_callbacks.forEach(function(callback) { callback() });\n",
       "      delete window._bokeh_onload_callbacks\n",
       "      console.info(\"Bokeh: all callbacks have finished\");\n",
       "    }\n",
       "  \n",
       "    function load_libs(js_urls, callback) {\n",
       "      window._bokeh_onload_callbacks.push(callback);\n",
       "      if (window._bokeh_is_loading > 0) {\n",
       "        console.log(\"Bokeh: BokehJS is being loaded, scheduling callback at\", now());\n",
       "        return null;\n",
       "      }\n",
       "      if (js_urls == null || js_urls.length === 0) {\n",
       "        run_callbacks();\n",
       "        return null;\n",
       "      }\n",
       "      console.log(\"Bokeh: BokehJS not loaded, scheduling load and callback at\", now());\n",
       "      window._bokeh_is_loading = js_urls.length;\n",
       "      for (var i = 0; i < js_urls.length; i++) {\n",
       "        var url = js_urls[i];\n",
       "        var s = document.createElement('script');\n",
       "        s.src = url;\n",
       "        s.async = false;\n",
       "        s.onreadystatechange = s.onload = function() {\n",
       "          window._bokeh_is_loading--;\n",
       "          if (window._bokeh_is_loading === 0) {\n",
       "            console.log(\"Bokeh: all BokehJS libraries loaded\");\n",
       "            run_callbacks()\n",
       "          }\n",
       "        };\n",
       "        s.onerror = function() {\n",
       "          console.warn(\"failed to load library \" + url);\n",
       "        };\n",
       "        console.log(\"Bokeh: injecting script tag for BokehJS library: \", url);\n",
       "        document.getElementsByTagName(\"head\")[0].appendChild(s);\n",
       "      }\n",
       "    };var element = document.getElementById(\"507d2109-91dc-4d83-8fb0-7ba00f262cf1\");\n",
       "    if (element == null) {\n",
       "      console.log(\"Bokeh: ERROR: autoload.js configured with elementid '507d2109-91dc-4d83-8fb0-7ba00f262cf1' but no matching script tag was found. \")\n",
       "      return false;\n",
       "    }\n",
       "  \n",
       "    var js_urls = [];\n",
       "  \n",
       "    var inline_js = [\n",
       "      function(Bokeh) {\n",
       "        (function() {\n",
       "          var fn = function() {\n",
       "            var docs_json = {\"0b9be7c3-83c9-4678-8ae7-96d0ebbff521\":{\"roots\":{\"references\":[{\"attributes\":{},\"id\":\"2b194b0e-23bf-42c6-a283-941879147257\",\"type\":\"BasicTicker\"},{\"attributes\":{},\"id\":\"2ffdfdac-f456-47bd-9341-955988a67272\",\"type\":\"BasicTickFormatter\"},{\"attributes\":{\"fill_color\":{\"value\":\"#1f77b4\"},\"line_color\":{\"value\":\"#1f77b4\"},\"x\":{\"field\":\"x\"},\"y\":{\"field\":\"y0\"}},\"id\":\"c492e514-27f0-4fa6-b60b-a4ef52e32482\",\"type\":\"Circle\"},{\"attributes\":{},\"id\":\"ca3fcf69-801a-4344-ade5-604efe12ecf5\",\"type\":\"BasicTicker\"},{\"attributes\":{},\"id\":\"c2ab7c31-cf9b-4889-b7c2-66fc42538055\",\"type\":\"BasicTicker\"},{\"attributes\":{\"fill_alpha\":{\"value\":0.1},\"fill_color\":{\"value\":\"#1f77b4\"},\"line_alpha\":{\"value\":0.1},\"line_color\":{\"value\":\"#1f77b4\"},\"x\":{\"field\":\"x2\"},\"y\":{\"field\":\"y1\"}},\"id\":\"02ae1abd-afe9-4883-b06e-706567b81e02\",\"type\":\"Circle\"},{\"attributes\":{},\"id\":\"d109f124-acca-4179-a86f-0c12435d4192\",\"type\":\"BasicTickFormatter\"},{\"attributes\":{\"bottom_units\":\"screen\",\"fill_alpha\":{\"value\":0.5},\"fill_color\":{\"value\":\"lightgrey\"},\"left_units\":\"screen\",\"level\":\"overlay\",\"line_alpha\":{\"value\":1.0},\"line_color\":{\"value\":\"black\"},\"line_dash\":[4,4],\"line_width\":{\"value\":2},\"plot\":null,\"render_mode\":\"css\",\"right_units\":\"screen\",\"top_units\":\"screen\"},\"id\":\"c8011423-6019-4e24-a4c4-a46cea2f18b1\",\"type\":\"BoxAnnotation\"},{\"attributes\":{},\"id\":\"0f4ffa79-6528-4eae-a929-7c5b1dfa6ce8\",\"type\":\"BasicTicker\"},{\"attributes\":{},\"id\":\"dbae6ca7-8bf1-4f1f-a61b-4fd14689d0a8\",\"type\":\"BasicTickFormatter\"},{\"attributes\":{\"dimension\":1,\"plot\":{\"id\":\"9d9b6bb4-9197-4581-839f-c3e7daa0dfd8\",\"subtype\":\"Figure\",\"type\":\"Plot\"},\"ticker\":{\"id\":\"c2ab7c31-cf9b-4889-b7c2-66fc42538055\",\"type\":\"BasicTicker\"}},\"id\":\"2888ea8b-f595-47c6-b56f-9596ceb73ba6\",\"type\":\"Grid\"},{\"attributes\":{\"children\":[{\"id\":\"7eeb0a46-644d-4b63-a91a-22cee7cc0eb0\",\"type\":\"ToolbarBox\"},{\"id\":\"489a1c4d-7237-4ea6-a117-10ab80399338\",\"type\":\"Column\"}]},\"id\":\"872d8944-740c-455e-8d6a-614c0a693ea0\",\"type\":\"Column\"},{\"attributes\":{\"fill_alpha\":{\"value\":0.5},\"fill_color\":{\"value\":\"lightgrey\"},\"level\":\"overlay\",\"line_alpha\":{\"value\":1.0},\"line_color\":{\"value\":\"black\"},\"line_dash\":[4,4],\"line_width\":{\"value\":2},\"plot\":null,\"xs_units\":\"screen\",\"ys_units\":\"screen\"},\"id\":\"2fc02717-99a0-42d6-a593-3023400b6c29\",\"type\":\"PolyAnnotation\"},{\"attributes\":{\"plot\":{\"id\":\"9d9b6bb4-9197-4581-839f-c3e7daa0dfd8\",\"subtype\":\"Figure\",\"type\":\"Plot\"}},\"id\":\"d5d037a1-9f2d-4908-b7d0-935729a92b7f\",\"type\":\"HelpTool\"},{\"attributes\":{\"plot\":{\"id\":\"f38d8a0e-a605-4c31-9655-6a222b90d695\",\"subtype\":\"Figure\",\"type\":\"Plot\"},\"ticker\":{\"id\":\"0f4ffa79-6528-4eae-a929-7c5b1dfa6ce8\",\"type\":\"BasicTicker\"}},\"id\":\"6386b57f-7fbf-48ad-a60a-f22fc405ecb3\",\"type\":\"Grid\"},{\"attributes\":{\"callback\":null},\"id\":\"278b6ed2-0f05-426a-9113-e9f7ff252f1f\",\"type\":\"DataRange1d\"},{\"attributes\":{\"callback\":null,\"overlay\":{\"id\":\"2fc02717-99a0-42d6-a593-3023400b6c29\",\"type\":\"PolyAnnotation\"},\"plot\":{\"id\":\"9d9b6bb4-9197-4581-839f-c3e7daa0dfd8\",\"subtype\":\"Figure\",\"type\":\"Plot\"}},\"id\":\"00cd1615-c8f6-4b17-a8ab-a9dd8c3cf6c8\",\"type\":\"LassoSelectTool\"},{\"attributes\":{\"callback\":null},\"id\":\"e90e96cb-cbb0-49c6-b806-74edbf8d37b0\",\"type\":\"DataRange1d\"},{\"attributes\":{\"callback\":null},\"id\":\"9e88ca4c-3d30-4d71-8b1d-60da65e608ba\",\"type\":\"DataRange1d\"},{\"attributes\":{\"active_drag\":\"auto\",\"active_scroll\":\"auto\",\"active_tap\":\"auto\",\"tools\":[{\"id\":\"9c2d4659-7056-47c4-8b0f-c83d16f93d02\",\"type\":\"BoxSelectTool\"},{\"id\":\"00cd1615-c8f6-4b17-a8ab-a9dd8c3cf6c8\",\"type\":\"LassoSelectTool\"},{\"id\":\"d5d037a1-9f2d-4908-b7d0-935729a92b7f\",\"type\":\"HelpTool\"}]},\"id\":\"c58e4071-7d54-4c48-b1fc-3f06d7995063\",\"type\":\"Toolbar\"},{\"attributes\":{\"formatter\":{\"id\":\"2ffdfdac-f456-47bd-9341-955988a67272\",\"type\":\"BasicTickFormatter\"},\"plot\":{\"id\":\"f38d8a0e-a605-4c31-9655-6a222b90d695\",\"subtype\":\"Figure\",\"type\":\"Plot\"},\"ticker\":{\"id\":\"2b194b0e-23bf-42c6-a283-941879147257\",\"type\":\"BasicTicker\"}},\"id\":\"ddf92ee9-3e65-4184-8bf4-881d9c59aaba\",\"type\":\"LinearAxis\"},{\"attributes\":{},\"id\":\"b4ffecc8-8116-421a-a611-d79cd9d24efe\",\"type\":\"ToolEvents\"},{\"attributes\":{\"fill_color\":{\"value\":\"#1f77b4\"},\"line_color\":{\"value\":\"#1f77b4\"},\"x\":{\"field\":\"x2\"},\"y\":{\"field\":\"y1\"}},\"id\":\"d3cc24e2-5e66-4519-a1fa-1ded5d239b0e\",\"type\":\"Circle\"},{\"attributes\":{\"data_source\":{\"id\":\"e0504d06-23bd-4772-9377-251b107e07f6\",\"type\":\"ColumnDataSource\"},\"glyph\":{\"id\":\"c492e514-27f0-4fa6-b60b-a4ef52e32482\",\"type\":\"Circle\"},\"hover_glyph\":null,\"nonselection_glyph\":{\"id\":\"2301dab0-496f-4eef-ad20-000b89251c70\",\"type\":\"Circle\"},\"selection_glyph\":null},\"id\":\"c17094a2-f004-478b-b6eb-703f9ef0833d\",\"type\":\"GlyphRenderer\"},{\"attributes\":{\"fill_alpha\":{\"value\":0.5},\"fill_color\":{\"value\":\"lightgrey\"},\"level\":\"overlay\",\"line_alpha\":{\"value\":1.0},\"line_color\":{\"value\":\"black\"},\"line_dash\":[4,4],\"line_width\":{\"value\":2},\"plot\":null,\"xs_units\":\"screen\",\"ys_units\":\"screen\"},\"id\":\"2bc5d146-6c05-46ca-854a-417e64070c5e\",\"type\":\"PolyAnnotation\"},{\"attributes\":{\"callback\":null,\"overlay\":{\"id\":\"c8011423-6019-4e24-a4c4-a46cea2f18b1\",\"type\":\"BoxAnnotation\"},\"plot\":{\"id\":\"f38d8a0e-a605-4c31-9655-6a222b90d695\",\"subtype\":\"Figure\",\"type\":\"Plot\"},\"renderers\":[{\"id\":\"e79464d5-df16-4517-8bef-542d51fcba40\",\"type\":\"GlyphRenderer\"}]},\"id\":\"cc55dec2-6e3a-4274-b518-17b46d86238d\",\"type\":\"BoxSelectTool\"},{\"attributes\":{\"bottom_units\":\"screen\",\"fill_alpha\":{\"value\":0.5},\"fill_color\":{\"value\":\"lightgrey\"},\"left_units\":\"screen\",\"level\":\"overlay\",\"line_alpha\":{\"value\":1.0},\"line_color\":{\"value\":\"black\"},\"line_dash\":[4,4],\"line_width\":{\"value\":2},\"plot\":null,\"render_mode\":\"css\",\"right_units\":\"screen\",\"top_units\":\"screen\"},\"id\":\"ae9ec33c-0cd9-4fed-9ec3-de0ab1947a39\",\"type\":\"BoxAnnotation\"},{\"attributes\":{\"active_drag\":\"auto\",\"active_scroll\":\"auto\",\"active_tap\":\"auto\",\"tools\":[{\"id\":\"cc55dec2-6e3a-4274-b518-17b46d86238d\",\"type\":\"BoxSelectTool\"},{\"id\":\"d03873d7-39fc-4ee3-9269-3250de4d0eb0\",\"type\":\"LassoSelectTool\"},{\"id\":\"ddaa929c-f437-4a24-985e-9e89898d19de\",\"type\":\"HelpTool\"}]},\"id\":\"c1704fa9-1c99-470a-ad95-ec806b5547e2\",\"type\":\"Toolbar\"},{\"attributes\":{\"below\":[{\"id\":\"39c5656f-6f33-4c78-af12-676d5b52cf7a\",\"type\":\"LinearAxis\"}],\"left\":[{\"id\":\"fd83bf18-cb8a-4aa0-8cf6-a88cb164046a\",\"type\":\"LinearAxis\"}],\"plot_height\":300,\"plot_width\":300,\"renderers\":[{\"id\":\"39c5656f-6f33-4c78-af12-676d5b52cf7a\",\"type\":\"LinearAxis\"},{\"id\":\"87f31962-6e39-4d31-9e28-5dc4b9116fdd\",\"type\":\"Grid\"},{\"id\":\"fd83bf18-cb8a-4aa0-8cf6-a88cb164046a\",\"type\":\"LinearAxis\"},{\"id\":\"2888ea8b-f595-47c6-b56f-9596ceb73ba6\",\"type\":\"Grid\"},{\"id\":\"ae9ec33c-0cd9-4fed-9ec3-de0ab1947a39\",\"type\":\"BoxAnnotation\"},{\"id\":\"2fc02717-99a0-42d6-a593-3023400b6c29\",\"type\":\"PolyAnnotation\"},{\"id\":\"c17094a2-f004-478b-b6eb-703f9ef0833d\",\"type\":\"GlyphRenderer\"}],\"title\":null,\"tool_events\":{\"id\":\"b4ffecc8-8116-421a-a611-d79cd9d24efe\",\"type\":\"ToolEvents\"},\"toolbar\":{\"id\":\"c58e4071-7d54-4c48-b1fc-3f06d7995063\",\"type\":\"Toolbar\"},\"toolbar_location\":null,\"x_range\":{\"id\":\"7d516e15-1eac-459a-9f4d-9adc13642ce4\",\"type\":\"DataRange1d\"},\"y_range\":{\"id\":\"9e88ca4c-3d30-4d71-8b1d-60da65e608ba\",\"type\":\"DataRange1d\"}},\"id\":\"9d9b6bb4-9197-4581-839f-c3e7daa0dfd8\",\"subtype\":\"Figure\",\"type\":\"Plot\"},{\"attributes\":{},\"id\":\"0d74fa63-bde2-47f3-9e2c-3bbfaa7357f1\",\"type\":\"BasicTickFormatter\"},{\"attributes\":{\"children\":[{\"id\":\"0949bc5a-f5b8-43b7-831b-afbe3382479b\",\"type\":\"Row\"}]},\"id\":\"489a1c4d-7237-4ea6-a117-10ab80399338\",\"type\":\"Column\"},{\"attributes\":{\"dimension\":1,\"plot\":{\"id\":\"f38d8a0e-a605-4c31-9655-6a222b90d695\",\"subtype\":\"Figure\",\"type\":\"Plot\"},\"ticker\":{\"id\":\"2b194b0e-23bf-42c6-a283-941879147257\",\"type\":\"BasicTicker\"}},\"id\":\"ad2c48ff-04e5-467e-982b-2ae92ac6034b\",\"type\":\"Grid\"},{\"attributes\":{\"below\":[{\"id\":\"edb2362e-0f07-4ed5-bfeb-c4a7a167d959\",\"type\":\"LinearAxis\"}],\"left\":[{\"id\":\"ddf92ee9-3e65-4184-8bf4-881d9c59aaba\",\"type\":\"LinearAxis\"}],\"plot_height\":300,\"plot_width\":300,\"renderers\":[{\"id\":\"edb2362e-0f07-4ed5-bfeb-c4a7a167d959\",\"type\":\"LinearAxis\"},{\"id\":\"6386b57f-7fbf-48ad-a60a-f22fc405ecb3\",\"type\":\"Grid\"},{\"id\":\"ddf92ee9-3e65-4184-8bf4-881d9c59aaba\",\"type\":\"LinearAxis\"},{\"id\":\"ad2c48ff-04e5-467e-982b-2ae92ac6034b\",\"type\":\"Grid\"},{\"id\":\"c8011423-6019-4e24-a4c4-a46cea2f18b1\",\"type\":\"BoxAnnotation\"},{\"id\":\"2bc5d146-6c05-46ca-854a-417e64070c5e\",\"type\":\"PolyAnnotation\"},{\"id\":\"e79464d5-df16-4517-8bef-542d51fcba40\",\"type\":\"GlyphRenderer\"}],\"title\":null,\"tool_events\":{\"id\":\"5c4ff921-a6cf-4368-a0a1-f2144423402b\",\"type\":\"ToolEvents\"},\"toolbar\":{\"id\":\"c1704fa9-1c99-470a-ad95-ec806b5547e2\",\"type\":\"Toolbar\"},\"toolbar_location\":null,\"x_range\":{\"id\":\"e90e96cb-cbb0-49c6-b806-74edbf8d37b0\",\"type\":\"DataRange1d\"},\"y_range\":{\"id\":\"278b6ed2-0f05-426a-9113-e9f7ff252f1f\",\"type\":\"DataRange1d\"}},\"id\":\"f38d8a0e-a605-4c31-9655-6a222b90d695\",\"subtype\":\"Figure\",\"type\":\"Plot\"},{\"attributes\":{\"sizing_mode\":\"scale_width\",\"toolbar_location\":\"above\",\"tools\":[{\"id\":\"9c2d4659-7056-47c4-8b0f-c83d16f93d02\",\"type\":\"BoxSelectTool\"},{\"id\":\"00cd1615-c8f6-4b17-a8ab-a9dd8c3cf6c8\",\"type\":\"LassoSelectTool\"},{\"id\":\"d5d037a1-9f2d-4908-b7d0-935729a92b7f\",\"type\":\"HelpTool\"},{\"id\":\"cc55dec2-6e3a-4274-b518-17b46d86238d\",\"type\":\"BoxSelectTool\"},{\"id\":\"d03873d7-39fc-4ee3-9269-3250de4d0eb0\",\"type\":\"LassoSelectTool\"},{\"id\":\"ddaa929c-f437-4a24-985e-9e89898d19de\",\"type\":\"HelpTool\"}]},\"id\":\"7eeb0a46-644d-4b63-a91a-22cee7cc0eb0\",\"type\":\"ToolbarBox\"},{\"attributes\":{\"callback\":null,\"overlay\":{\"id\":\"2bc5d146-6c05-46ca-854a-417e64070c5e\",\"type\":\"PolyAnnotation\"},\"plot\":{\"id\":\"f38d8a0e-a605-4c31-9655-6a222b90d695\",\"subtype\":\"Figure\",\"type\":\"Plot\"}},\"id\":\"d03873d7-39fc-4ee3-9269-3250de4d0eb0\",\"type\":\"LassoSelectTool\"},{\"attributes\":{\"plot\":{\"id\":\"9d9b6bb4-9197-4581-839f-c3e7daa0dfd8\",\"subtype\":\"Figure\",\"type\":\"Plot\"},\"ticker\":{\"id\":\"ca3fcf69-801a-4344-ade5-604efe12ecf5\",\"type\":\"BasicTicker\"}},\"id\":\"87f31962-6e39-4d31-9e28-5dc4b9116fdd\",\"type\":\"Grid\"},{\"attributes\":{\"data_source\":{\"id\":\"e0504d06-23bd-4772-9377-251b107e07f6\",\"type\":\"ColumnDataSource\"},\"glyph\":{\"id\":\"d3cc24e2-5e66-4519-a1fa-1ded5d239b0e\",\"type\":\"Circle\"},\"hover_glyph\":null,\"nonselection_glyph\":{\"id\":\"02ae1abd-afe9-4883-b06e-706567b81e02\",\"type\":\"Circle\"},\"selection_glyph\":null},\"id\":\"e79464d5-df16-4517-8bef-542d51fcba40\",\"type\":\"GlyphRenderer\"},{\"attributes\":{\"plot\":{\"id\":\"f38d8a0e-a605-4c31-9655-6a222b90d695\",\"subtype\":\"Figure\",\"type\":\"Plot\"}},\"id\":\"ddaa929c-f437-4a24-985e-9e89898d19de\",\"type\":\"HelpTool\"},{\"attributes\":{\"callback\":null},\"id\":\"7d516e15-1eac-459a-9f4d-9adc13642ce4\",\"type\":\"DataRange1d\"},{\"attributes\":{\"callback\":null,\"overlay\":{\"id\":\"ae9ec33c-0cd9-4fed-9ec3-de0ab1947a39\",\"type\":\"BoxAnnotation\"},\"plot\":{\"id\":\"9d9b6bb4-9197-4581-839f-c3e7daa0dfd8\",\"subtype\":\"Figure\",\"type\":\"Plot\"},\"renderers\":[{\"id\":\"c17094a2-f004-478b-b6eb-703f9ef0833d\",\"type\":\"GlyphRenderer\"}]},\"id\":\"9c2d4659-7056-47c4-8b0f-c83d16f93d02\",\"type\":\"BoxSelectTool\"},{\"attributes\":{\"children\":[{\"id\":\"9d9b6bb4-9197-4581-839f-c3e7daa0dfd8\",\"subtype\":\"Figure\",\"type\":\"Plot\"},{\"id\":\"f38d8a0e-a605-4c31-9655-6a222b90d695\",\"subtype\":\"Figure\",\"type\":\"Plot\"}]},\"id\":\"0949bc5a-f5b8-43b7-831b-afbe3382479b\",\"type\":\"Row\"},{\"attributes\":{},\"id\":\"5c4ff921-a6cf-4368-a0a1-f2144423402b\",\"type\":\"ToolEvents\"},{\"attributes\":{\"formatter\":{\"id\":\"d109f124-acca-4179-a86f-0c12435d4192\",\"type\":\"BasicTickFormatter\"},\"plot\":{\"id\":\"9d9b6bb4-9197-4581-839f-c3e7daa0dfd8\",\"subtype\":\"Figure\",\"type\":\"Plot\"},\"ticker\":{\"id\":\"c2ab7c31-cf9b-4889-b7c2-66fc42538055\",\"type\":\"BasicTicker\"}},\"id\":\"fd83bf18-cb8a-4aa0-8cf6-a88cb164046a\",\"type\":\"LinearAxis\"},{\"attributes\":{\"formatter\":{\"id\":\"0d74fa63-bde2-47f3-9e2c-3bbfaa7357f1\",\"type\":\"BasicTickFormatter\"},\"plot\":{\"id\":\"f38d8a0e-a605-4c31-9655-6a222b90d695\",\"subtype\":\"Figure\",\"type\":\"Plot\"},\"ticker\":{\"id\":\"0f4ffa79-6528-4eae-a929-7c5b1dfa6ce8\",\"type\":\"BasicTicker\"}},\"id\":\"edb2362e-0f07-4ed5-bfeb-c4a7a167d959\",\"type\":\"LinearAxis\"},{\"attributes\":{\"fill_alpha\":{\"value\":0.1},\"fill_color\":{\"value\":\"#1f77b4\"},\"line_alpha\":{\"value\":0.1},\"line_color\":{\"value\":\"#1f77b4\"},\"x\":{\"field\":\"x\"},\"y\":{\"field\":\"y0\"}},\"id\":\"2301dab0-496f-4eef-ad20-000b89251c70\",\"type\":\"Circle\"},{\"attributes\":{\"formatter\":{\"id\":\"dbae6ca7-8bf1-4f1f-a61b-4fd14689d0a8\",\"type\":\"BasicTickFormatter\"},\"plot\":{\"id\":\"9d9b6bb4-9197-4581-839f-c3e7daa0dfd8\",\"subtype\":\"Figure\",\"type\":\"Plot\"},\"ticker\":{\"id\":\"ca3fcf69-801a-4344-ade5-604efe12ecf5\",\"type\":\"BasicTicker\"}},\"id\":\"39c5656f-6f33-4c78-af12-676d5b52cf7a\",\"type\":\"LinearAxis\"},{\"attributes\":{\"callback\":null,\"column_names\":[\"y0\",\"x2\",\"y1\",\"x\"],\"data\":{\"x\":[-20,-19,-18,-17,-16,-15,-14,-13,-12,-11,-10,-9,-8,-7,-6,-5,-4,-3,-2,-1,0,1,2,3,4,5,6,7,8,9,10,11,12,13,14,15,16,17,18,19,20],\"x2\":[-30,-29,-28,-27,-26,-25,-24,-23,-22,-21,-20,-19,-18,-17,-16,-15,-14,-13,-12,-11,-10,-9,-8,-7,-6,-5,-4,-3,-2,-1,0,1,2,3,4,5,6,7,8,9],\"y0\":[20,19,18,17,16,15,14,13,12,11,10,9,8,7,6,5,4,3,2,1,0,1,2,3,4,5,6,7,8,9,10,11,12,13,14,15,16,17,18,19,20],\"y1\":[900,841,784,729,676,625,576,529,484,441,400,361,324,289,256,225,196,169,144,121,100,81,64,49,36,25,16,9,4,1,0,1,4,9,16,25,36,49,64,81]}},\"id\":\"e0504d06-23bd-4772-9377-251b107e07f6\",\"type\":\"ColumnDataSource\"}],\"root_ids\":[\"872d8944-740c-455e-8d6a-614c0a693ea0\"]},\"title\":\"Bokeh Application\",\"version\":\"0.12.4\"}};\n",
       "            var render_items = [{\"docid\":\"0b9be7c3-83c9-4678-8ae7-96d0ebbff521\",\"elementid\":\"507d2109-91dc-4d83-8fb0-7ba00f262cf1\",\"modelid\":\"872d8944-740c-455e-8d6a-614c0a693ea0\"}];\n",
       "            \n",
       "            Bokeh.embed.embed_items(docs_json, render_items);\n",
       "          };\n",
       "          if (document.readyState != \"loading\") fn();\n",
       "          else document.addEventListener(\"DOMContentLoaded\", fn);\n",
       "        })();\n",
       "      },\n",
       "      function(Bokeh) {\n",
       "      }\n",
       "    ];\n",
       "  \n",
       "    function run_inline_js() {\n",
       "      \n",
       "      if ((window.Bokeh !== undefined) || (force === true)) {\n",
       "        for (var i = 0; i < inline_js.length; i++) {\n",
       "          inline_js[i](window.Bokeh);\n",
       "        }if (force === true) {\n",
       "          display_loaded();\n",
       "        }} else if (Date.now() < window._bokeh_timeout) {\n",
       "        setTimeout(run_inline_js, 100);\n",
       "      } else if (!window._bokeh_failed_load) {\n",
       "        console.log(\"Bokeh: BokehJS failed to load within specified timeout.\");\n",
       "        window._bokeh_failed_load = true;\n",
       "      } else if (force !== true) {\n",
       "        var cell = $(document.getElementById(\"507d2109-91dc-4d83-8fb0-7ba00f262cf1\")).parents('.cell').data().cell;\n",
       "        cell.output_area.append_execute_result(NB_LOAD_WARNING)\n",
       "      }\n",
       "  \n",
       "    }\n",
       "  \n",
       "    if (window._bokeh_is_loading === 0) {\n",
       "      console.log(\"Bokeh: BokehJS loaded, going straight to plotting\");\n",
       "      run_inline_js();\n",
       "    } else {\n",
       "      load_libs(js_urls, function() {\n",
       "        console.log(\"Bokeh: BokehJS plotting callback run at\", now());\n",
       "        run_inline_js();\n",
       "      });\n",
       "    }\n",
       "  }(this));\n",
       "</script>"
      ]
     },
     "metadata": {},
     "output_type": "display_data"
    }
   ],
   "source": [
    "x = list(range(-20, 21))\n",
    "x2 =list(range(-30, 10))\n",
    "y0 = [abs(xx) for xx in x]\n",
    "y1 = [xx**2 for xx in x2]\n",
    "\n",
    "# create a column data source for the plots to share\n",
    "source = ColumnDataSource(data=dict(x=x, x2=x2, y0=y0, y1=y1))\n",
    "\n",
    "TOOLS = \"box_select,lasso_select,help\"\n",
    "\n",
    "# create a new plot and add a renderer\n",
    "left = figure(tools=TOOLS, width=300, height=300, title=None)\n",
    "left.circle('x', 'y0', source=source)\n",
    "\n",
    "# create another new plot and add a renderer\n",
    "right = figure(tools=TOOLS, width=300, height=300, title=None)\n",
    "right.circle('x2', 'y1', source=source)\n",
    "\n",
    "p = gridplot([[left, right]])\n",
    "\n",
    "show(p)"
   ]
  },
  {
   "cell_type": "code",
   "execution_count": null,
   "metadata": {
    "collapsed": true
   },
   "outputs": [],
   "source": []
  }
 ],
 "metadata": {
  "anaconda-cloud": {},
  "kernelspec": {
   "display_name": "Python [conda env:gwb]",
   "language": "python",
   "name": "conda-env-gwb-py"
  },
  "language_info": {
   "codemirror_mode": {
    "name": "ipython",
    "version": 3
   },
   "file_extension": ".py",
   "mimetype": "text/x-python",
   "name": "python",
   "nbconvert_exporter": "python",
   "pygments_lexer": "ipython3",
   "version": "3.5.2"
  }
 },
 "nbformat": 4,
 "nbformat_minor": 2
}
